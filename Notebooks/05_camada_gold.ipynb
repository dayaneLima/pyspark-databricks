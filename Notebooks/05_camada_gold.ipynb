{
 "cells": [
  {
   "cell_type": "markdown",
   "metadata": {
    "application/vnd.databricks.v1+cell": {
     "cellMetadata": {},
     "inputWidgets": {},
     "nuid": "b8f6ebb2-bd1f-472b-9df9-3315acf55566",
     "showTitle": false,
     "tableResultSettingsMap": {},
     "title": ""
    }
   },
   "source": [
    "### Camada Gold Delta\n",
    "#### Diferenças entre a camada Gold e Gold Delta\n",
    "\n",
    "##### Camada Gold:\n",
    "\n",
    "- Representa a camada final de um Data Lake ou Data Warehouse.\n",
    "- Aqui os dados são refinados e estruturados em tabelas de fatos e dimensões para suportar análises e relatórios.\n",
    "- As tabelas são otimizadas para desempenho e organizadas em modelos como Star Schema ou Snowflake Schema.\n",
    "\n",
    "\n",
    "##### Gold Delta:\n",
    "\n",
    "- Utiliza o formato Delta Lake, que combina as vantagens de sistemas transacionais (ACID) e data lakes escaláveis.\n",
    "- Oferece versionamento, controle de concorrência e suporte eficiente para consultas de larga escala.\n",
    "\n",
    "##### Star Schema (Esquema Estrela):\n",
    "\n",
    "- Modelo simples de banco de dados usado em data warehouses.\n",
    "- Estrutura: Uma tabela fato central conectada diretamente a tabelas dimensão (ex.: produtos, clientes).\n",
    "- Vantagens: Consultas rápidas e fácil entendimento.\n",
    "- Desvantagem: Dados redundantes nas dimensões.\n",
    "\n",
    "\n",
    "##### Snowflake Schema (Esquema Floco de Neve):\n",
    "\n",
    "- Versão mais normalizada do Star Schema.\n",
    "- Dimensões divididas em subdimensões (ex.: informações de região separadas da dimensão cliente).\n",
    "- Vantagens: Menor redundância e uso otimizado de armazenamento.\n",
    "- Desvantagem: Estrutura mais complexa e consultas mais lentas devido ao aumento de joins.\n",
    "\n",
    "##### Diferença Principal entre Star Schema e Snowflake Schema:\n",
    "\n",
    "- Star Schema é mais rápido para consultas e análises simples.\n",
    "- Snowflake Schema é mais eficiente em armazenamento e mantém maior consistência nos dados.\n",
    "\n",
    "##### Tabelas Fato:\n",
    "\n",
    "- Registram eventos ou transações, como vendas ou cliques.\n",
    "- Contêm métricas numéricas (ex.: quantidade, valor total) e chaves que se conectam às dimensões.\n",
    "- Foco em análise, cálculos e tendências.\n",
    "\n",
    "##### Tabelas Dimensão:\n",
    "\n",
    "- Guardam dados descritivos, como informações sobre clientes, produtos ou regiões.\n",
    "- Complementam a tabela fato, permitindo análises por diferentes perspectivas.\n",
    "- Exemplos: detalhes de produtos, dados demográficos de clientes.\n",
    "\n",
    "##### Relação entre Tabelas Fato e Dimensão: \n",
    "\n",
    "As tabelas fato utilizam chaves para se conectar às dimensões, formando um modelo que facilita análises multidimensionais, como vendas por região ou por categoria de produto.\n"
   ]
  },
  {
   "cell_type": "markdown",
   "metadata": {
    "application/vnd.databricks.v1+cell": {
     "cellMetadata": {},
     "inputWidgets": {},
     "nuid": "a987e19e-00f0-4403-a9a6-49fbda8f344c",
     "showTitle": false,
     "tableResultSettingsMap": {},
     "title": ""
    }
   },
   "source": [
    "### Configuração Inicial para Delta Lake\n",
    "O código abaixo configura o ambiente para trabalhar com o Delta Lake em um pipeline de dados. O Delta Lake é uma camada de armazenamento que oferece transações ACID, versionamento e otimização para análises em grande escala. Aqui, os dados são lidos da Camada Silver, que contém informações já refinadas, e estarão prontos para serem processados na Camada Gold."
   ]
  },
  {
   "cell_type": "code",
   "execution_count": 0,
   "metadata": {
    "application/vnd.databricks.v1+cell": {
     "cellMetadata": {
      "byteLimit": 2048000,
      "rowLimit": 10000
     },
     "inputWidgets": {},
     "nuid": "a6398c78-3c20-4556-879c-1a7d68216bcd",
     "showTitle": false,
     "tableResultSettingsMap": {},
     "title": ""
    }
   },
   "outputs": [],
   "source": [
    "# 1. Importar o SparkSession para inicializar e configurar o ambiente de trabalho.\n",
    "from pyspark.sql import SparkSession\n",
    "\n",
    "# 2. Configurar a SparkSession para habilitar o suporte ao Delta Lake.\n",
    "spark = SparkSession.builder \\\n",
    "    .appName(\"Carga Delta\") \\\n",
    "    .config(\"spark.sql.extensions\", \"io.delta.sql.DeltaSparkSessionExtension\") \\\n",
    "    .config(\"spark.sql.catalog.spark_catalog\", \"org.apache.spark.sql.delta.catalog.DeltaCatalog\") \\\n",
    "    .getOrCreate()\n",
    "\n",
    "# Explicação do código acima:\n",
    "# appName: Nome da aplicação Spark para identificação nos logs.\n",
    "# spark.sql.extensions: Extensão necessária para uso do Delta Lake.\n",
    "# spark.sql.catalog.spark_catalog: Configura o catálogo do Delta.\n",
    "# getOrCreate: Cria a sessão Spark.\n",
    "\n",
    "# 3. Definir os caminhos de entrada e saída no Data Lake:\n",
    "# - `silver_path`: Localização dos dados refinados, oriundos da camada Silver.\n",
    "# - `gold_path`: Destino para armazenar os dados processados na camada Gold, no formato Delta.\n",
    "silver_path = \"/mnt/lhdw/silver/vendas\"  # Caminho para os dados refinados da Silver.\n",
    "gold_path = \"/mnt/lhdw/gold/vendas_delta\"  # Caminho para armazenamento na Gold.\n",
    "\n",
    "# 4. Ler os dados da Camada Silver:\n",
    "# Aqui, os dados são carregados no formato Parquet para preparação de transformações ou agregações.\n",
    "df_silver = spark.read.format(\"parquet\").load(silver_path)  # Lê os dados da camada Silver em um DataFrame.\n",
    "\n",
    "\n"
   ]
  },
  {
   "cell_type": "markdown",
   "metadata": {
    "application/vnd.databricks.v1+cell": {
     "cellMetadata": {},
     "inputWidgets": {},
     "nuid": "dbaafe4f-a740-4010-88d1-da3b874a43f0",
     "showTitle": false,
     "tableResultSettingsMap": {},
     "title": ""
    }
   },
   "source": [
    "#### Criação da Dimensão Produto\n",
    "\n",
    "Nesta etapa, criamos a dimensão Produto, um componente essencial para um modelo dimensional no formato estrela (star schema). A dimensão contém atributos únicos relacionados aos produtos, como ID, nome e categoria. Além disso, adicionamos uma chave substituta (surrogate key), que é uma prática comum em data warehouses para garantir unicidade e eficiência."
   ]
  },
  {
   "cell_type": "code",
   "execution_count": 0,
   "metadata": {
    "application/vnd.databricks.v1+cell": {
     "cellMetadata": {
      "byteLimit": 2048000,
      "rowLimit": 10000
     },
     "inputWidgets": {},
     "nuid": "cfcf9892-ba77-45f1-a200-7a4a00945e64",
     "showTitle": false,
     "tableResultSettingsMap": {},
     "title": ""
    }
   },
   "outputs": [
    {
     "output_type": "display_data",
     "data": {
      "text/html": [
       "<style scoped>\n",
       "  .table-result-container {\n",
       "    max-height: 300px;\n",
       "    overflow: auto;\n",
       "  }\n",
       "  table, th, td {\n",
       "    border: 1px solid black;\n",
       "    border-collapse: collapse;\n",
       "  }\n",
       "  th, td {\n",
       "    padding: 5px;\n",
       "  }\n",
       "  th {\n",
       "    text-align: left;\n",
       "  }\n",
       "</style><div class='table-result-container'><table class='table-result'><thead style='background-color: white'><tr><th>IDProduto</th><th>Produto</th><th>Categoria</th><th>sk_produto</th></tr></thead><tbody><tr><td>585</td><td>Maximus UC-50</td><td>Urban</td><td>1</td></tr><tr><td>555</td><td>Maximus UC-20</td><td>Mix</td><td>2</td></tr><tr><td>423</td><td>Maximus UM-28</td><td>Urban</td><td>3</td></tr><tr><td>681</td><td>Maximus UC-46</td><td>Urban</td><td>4</td></tr><tr><td>628</td><td>Maximus UC-93</td><td>Urban</td><td>5</td></tr><tr><td>415</td><td>Maximus UM-20</td><td>Urban</td><td>6</td></tr><tr><td>547</td><td>Maximus UC-12</td><td>Mix</td><td>7</td></tr><tr><td>653</td><td>Maximus UC-18</td><td>Urban</td><td>8</td></tr><tr><td>512</td><td>Maximus UR-01</td><td>Urban</td><td>9</td></tr><tr><td>520</td><td>Maximus UE-08</td><td>Urban</td><td>10</td></tr><tr><td>609</td><td>Maximus UC-74</td><td>Urban</td><td>11</td></tr><tr><td>471</td><td>Maximus UM-76</td><td>Urban</td><td>12</td></tr><tr><td>686</td><td>Maximus UC-51</td><td>Urban</td><td>13</td></tr><tr><td>528</td><td>Maximus UE-16</td><td>Urban</td><td>14</td></tr><tr><td>501</td><td>Maximus UM-06</td><td>Urban</td><td>15</td></tr><tr><td>577</td><td>Maximus UC-42</td><td>Urban</td><td>16</td></tr><tr><td>538</td><td>Maximus UC-03</td><td>Mix</td><td>17</td></tr><tr><td>578</td><td>Maximus UC-43</td><td>Urban</td><td>18</td></tr><tr><td>690</td><td>Maximus UC-55</td><td>Urban</td><td>19</td></tr><tr><td>515</td><td>Maximus UE-03</td><td>Urban</td><td>20</td></tr><tr><td>579</td><td>Maximus UC-44</td><td>Urban</td><td>21</td></tr><tr><td>438</td><td>Maximus UM-43</td><td>Urban</td><td>22</td></tr><tr><td>685</td><td>Maximus UC-50</td><td>Urban</td><td>23</td></tr><tr><td>443</td><td>Maximus UM-48</td><td>Urban</td><td>24</td></tr><tr><td>636</td><td>Maximus UC-01</td><td>Urban</td><td>25</td></tr><tr><td>416</td><td>Maximus UM-21</td><td>Urban</td><td>26</td></tr><tr><td>431</td><td>Maximus UM-36</td><td>Urban</td><td>27</td></tr><tr><td>424</td><td>Maximus UM-29</td><td>Urban</td><td>28</td></tr><tr><td>559</td><td>Maximus UC-24</td><td>Mix</td><td>29</td></tr><tr><td>457</td><td>Maximus UM-62</td><td>Urban</td><td>30</td></tr><tr><td>541</td><td>Maximus UC-06</td><td>Mix</td><td>31</td></tr><tr><td>491</td><td>Maximus UM-96</td><td>Urban</td><td>32</td></tr><tr><td>470</td><td>Maximus UM-75</td><td>Urban</td><td>33</td></tr><tr><td>599</td><td>Maximus UC-64</td><td>Urban</td><td>34</td></tr><tr><td>649</td><td>Maximus UC-14</td><td>Urban</td><td>35</td></tr><tr><td>548</td><td>Maximus UC-13</td><td>Mix</td><td>36</td></tr><tr><td>656</td><td>Maximus UC-21</td><td>Urban</td><td>37</td></tr><tr><td>605</td><td>Maximus UC-70</td><td>Urban</td><td>38</td></tr><tr><td>674</td><td>Maximus UC-39</td><td>Urban</td><td>39</td></tr><tr><td>580</td><td>Maximus UC-45</td><td>Urban</td><td>40</td></tr><tr><td>670</td><td>Maximus UC-35</td><td>Urban</td><td>41</td></tr><tr><td>447</td><td>Maximus UM-52</td><td>Urban</td><td>42</td></tr><tr><td>567</td><td>Maximus UC-32</td><td>Youth</td><td>43</td></tr><tr><td>604</td><td>Maximus UC-69</td><td>Urban</td><td>44</td></tr><tr><td>492</td><td>Maximus UM-97</td><td>Urban</td><td>45</td></tr><tr><td>478</td><td>Maximus UM-83</td><td>Urban</td><td>46</td></tr><tr><td>545</td><td>Maximus UC-10</td><td>Mix</td><td>47</td></tr><tr><td>640</td><td>Maximus UC-05</td><td>Urban</td><td>48</td></tr><tr><td>535</td><td>Maximus UE-23</td><td>Urban</td><td>49</td></tr><tr><td>596</td><td>Maximus UC-61</td><td>Urban</td><td>50</td></tr><tr><td>627</td><td>Maximus UC-92</td><td>Urban</td><td>51</td></tr><tr><td>451</td><td>Maximus UM-56</td><td>Urban</td><td>52</td></tr><tr><td>589</td><td>Maximus UC-54</td><td>Urban</td><td>53</td></tr><tr><td>563</td><td>Maximus UC-28</td><td>Youth</td><td>54</td></tr><tr><td>523</td><td>Maximus UE-11</td><td>Urban</td><td>55</td></tr><tr><td>516</td><td>Maximus UE-04</td><td>Urban</td><td>56</td></tr><tr><td>506</td><td>Maximus UM-11</td><td>Urban</td><td>57</td></tr><tr><td>667</td><td>Maximus UC-32</td><td>Urban</td><td>58</td></tr><tr><td>460</td><td>Maximus UM-65</td><td>Urban</td><td>59</td></tr><tr><td>449</td><td>Maximus UM-54</td><td>Urban</td><td>60</td></tr><tr><td>531</td><td>Maximus UE-19</td><td>Urban</td><td>61</td></tr><tr><td>650</td><td>Maximus UC-15</td><td>Urban</td><td>62</td></tr><tr><td>426</td><td>Maximus UM-31</td><td>Urban</td><td>63</td></tr><tr><td>556</td><td>Maximus UC-21</td><td>Mix</td><td>64</td></tr><tr><td>590</td><td>Maximus UC-55</td><td>Urban</td><td>65</td></tr><tr><td>672</td><td>Maximus UC-37</td><td>Urban</td><td>66</td></tr><tr><td>430</td><td>Maximus UM-35</td><td>Urban</td><td>67</td></tr><tr><td>659</td><td>Maximus UC-24</td><td>Urban</td><td>68</td></tr><tr><td>666</td><td>Maximus UC-31</td><td>Urban</td><td>69</td></tr><tr><td>633</td><td>Maximus UC-98</td><td>Urban</td><td>70</td></tr><tr><td>593</td><td>Maximus UC-58</td><td>Urban</td><td>71</td></tr><tr><td>445</td><td>Maximus UM-50</td><td>Urban</td><td>72</td></tr><tr><td>433</td><td>Maximus UM-38</td><td>Urban</td><td>73</td></tr><tr><td>676</td><td>Maximus UC-41</td><td>Urban</td><td>74</td></tr><tr><td>554</td><td>Maximus UC-19</td><td>Mix</td><td>75</td></tr><tr><td>549</td><td>Maximus UC-14</td><td>Mix</td><td>76</td></tr><tr><td>440</td><td>Maximus UM-45</td><td>Urban</td><td>77</td></tr><tr><td>615</td><td>Maximus UC-80</td><td>Urban</td><td>78</td></tr><tr><td>588</td><td>Maximus UC-53</td><td>Urban</td><td>79</td></tr><tr><td>429</td><td>Maximus UM-34</td><td>Urban</td><td>80</td></tr><tr><td>412</td><td>Maximus UM-17</td><td>Urban</td><td>81</td></tr><tr><td>487</td><td>Maximus UM-92</td><td>Urban</td><td>82</td></tr><tr><td>499</td><td>Maximus UM-04</td><td>Urban</td><td>83</td></tr><tr><td>456</td><td>Maximus UM-61</td><td>Urban</td><td>84</td></tr><tr><td>496</td><td>Maximus UM-01</td><td>Urban</td><td>85</td></tr><tr><td>489</td><td>Maximus UM-94</td><td>Urban</td><td>86</td></tr><tr><td>461</td><td>Maximus UM-66</td><td>Urban</td><td>87</td></tr><tr><td>517</td><td>Maximus UE-05</td><td>Urban</td><td>88</td></tr><tr><td>476</td><td>Maximus UM-81</td><td>Urban</td><td>89</td></tr><tr><td>428</td><td>Maximus UM-33</td><td>Urban</td><td>90</td></tr><tr><td>494</td><td>Maximus UM-99</td><td>Urban</td><td>91</td></tr><tr><td>527</td><td>Maximus UE-15</td><td>Urban</td><td>92</td></tr><tr><td>532</td><td>Maximus UE-20</td><td>Urban</td><td>93</td></tr><tr><td>629</td><td>Maximus UC-94</td><td>Urban</td><td>94</td></tr><tr><td>481</td><td>Maximus UM-86</td><td>Urban</td><td>95</td></tr><tr><td>450</td><td>Maximus UM-55</td><td>Urban</td><td>96</td></tr><tr><td>475</td><td>Maximus UM-80</td><td>Urban</td><td>97</td></tr><tr><td>524</td><td>Maximus UE-12</td><td>Urban</td><td>98</td></tr><tr><td>602</td><td>Maximus UC-67</td><td>Urban</td><td>99</td></tr><tr><td>466</td><td>Maximus UM-71</td><td>Urban</td><td>100</td></tr><tr><td>410</td><td>Maximus UM-15</td><td>Urban</td><td>101</td></tr><tr><td>417</td><td>Maximus UM-22</td><td>Urban</td><td>102</td></tr><tr><td>544</td><td>Maximus UC-09</td><td>Mix</td><td>103</td></tr><tr><td>689</td><td>Maximus UC-54</td><td>Urban</td><td>104</td></tr><tr><td>419</td><td>Maximus UM-24</td><td>Urban</td><td>105</td></tr><tr><td>427</td><td>Maximus UM-32</td><td>Urban</td><td>106</td></tr><tr><td>405</td><td>Maximus UM-10</td><td>Accessory</td><td>107</td></tr><tr><td>498</td><td>Maximus UM-03</td><td>Urban</td><td>108</td></tr><tr><td>406</td><td>Maximus UM-11</td><td>Accessory</td><td>109</td></tr><tr><td>394</td><td>Maximus RS-01</td><td>Rural</td><td>110</td></tr><tr><td>568</td><td>Maximus UC-33</td><td>Youth</td><td>111</td></tr><tr><td>407</td><td>Maximus UM-12</td><td>Accessory</td><td>112</td></tr><tr><td>396</td><td>Maximus UM-01</td><td>Accessory</td><td>113</td></tr><tr><td>400</td><td>Maximus UM-05</td><td>Accessory</td><td>114</td></tr><tr><td>576</td><td>Maximus UC-41</td><td>Youth</td><td>115</td></tr><tr><td>510</td><td>Maximus UM-15</td><td>Urban</td><td>116</td></tr><tr><td>402</td><td>Maximus UM-07</td><td>Accessory</td><td>117</td></tr><tr><td>403</td><td>Maximus UM-08</td><td>Accessory</td><td>118</td></tr></tbody></table></div>"
      ]
     },
     "metadata": {
      "application/vnd.databricks.v1+output": {
       "addedWidgets": {},
       "aggData": [],
       "aggError": "",
       "aggOverflow": false,
       "aggSchema": [],
       "aggSeriesLimitReached": false,
       "aggType": "",
       "arguments": {},
       "columnCustomDisplayInfos": {},
       "data": [
        [
         585,
         "Maximus UC-50",
         "Urban",
         1
        ],
        [
         555,
         "Maximus UC-20",
         "Mix",
         2
        ],
        [
         423,
         "Maximus UM-28",
         "Urban",
         3
        ],
        [
         681,
         "Maximus UC-46",
         "Urban",
         4
        ],
        [
         628,
         "Maximus UC-93",
         "Urban",
         5
        ],
        [
         415,
         "Maximus UM-20",
         "Urban",
         6
        ],
        [
         547,
         "Maximus UC-12",
         "Mix",
         7
        ],
        [
         653,
         "Maximus UC-18",
         "Urban",
         8
        ],
        [
         512,
         "Maximus UR-01",
         "Urban",
         9
        ],
        [
         520,
         "Maximus UE-08",
         "Urban",
         10
        ],
        [
         609,
         "Maximus UC-74",
         "Urban",
         11
        ],
        [
         471,
         "Maximus UM-76",
         "Urban",
         12
        ],
        [
         686,
         "Maximus UC-51",
         "Urban",
         13
        ],
        [
         528,
         "Maximus UE-16",
         "Urban",
         14
        ],
        [
         501,
         "Maximus UM-06",
         "Urban",
         15
        ],
        [
         577,
         "Maximus UC-42",
         "Urban",
         16
        ],
        [
         538,
         "Maximus UC-03",
         "Mix",
         17
        ],
        [
         578,
         "Maximus UC-43",
         "Urban",
         18
        ],
        [
         690,
         "Maximus UC-55",
         "Urban",
         19
        ],
        [
         515,
         "Maximus UE-03",
         "Urban",
         20
        ],
        [
         579,
         "Maximus UC-44",
         "Urban",
         21
        ],
        [
         438,
         "Maximus UM-43",
         "Urban",
         22
        ],
        [
         685,
         "Maximus UC-50",
         "Urban",
         23
        ],
        [
         443,
         "Maximus UM-48",
         "Urban",
         24
        ],
        [
         636,
         "Maximus UC-01",
         "Urban",
         25
        ],
        [
         416,
         "Maximus UM-21",
         "Urban",
         26
        ],
        [
         431,
         "Maximus UM-36",
         "Urban",
         27
        ],
        [
         424,
         "Maximus UM-29",
         "Urban",
         28
        ],
        [
         559,
         "Maximus UC-24",
         "Mix",
         29
        ],
        [
         457,
         "Maximus UM-62",
         "Urban",
         30
        ],
        [
         541,
         "Maximus UC-06",
         "Mix",
         31
        ],
        [
         491,
         "Maximus UM-96",
         "Urban",
         32
        ],
        [
         470,
         "Maximus UM-75",
         "Urban",
         33
        ],
        [
         599,
         "Maximus UC-64",
         "Urban",
         34
        ],
        [
         649,
         "Maximus UC-14",
         "Urban",
         35
        ],
        [
         548,
         "Maximus UC-13",
         "Mix",
         36
        ],
        [
         656,
         "Maximus UC-21",
         "Urban",
         37
        ],
        [
         605,
         "Maximus UC-70",
         "Urban",
         38
        ],
        [
         674,
         "Maximus UC-39",
         "Urban",
         39
        ],
        [
         580,
         "Maximus UC-45",
         "Urban",
         40
        ],
        [
         670,
         "Maximus UC-35",
         "Urban",
         41
        ],
        [
         447,
         "Maximus UM-52",
         "Urban",
         42
        ],
        [
         567,
         "Maximus UC-32",
         "Youth",
         43
        ],
        [
         604,
         "Maximus UC-69",
         "Urban",
         44
        ],
        [
         492,
         "Maximus UM-97",
         "Urban",
         45
        ],
        [
         478,
         "Maximus UM-83",
         "Urban",
         46
        ],
        [
         545,
         "Maximus UC-10",
         "Mix",
         47
        ],
        [
         640,
         "Maximus UC-05",
         "Urban",
         48
        ],
        [
         535,
         "Maximus UE-23",
         "Urban",
         49
        ],
        [
         596,
         "Maximus UC-61",
         "Urban",
         50
        ],
        [
         627,
         "Maximus UC-92",
         "Urban",
         51
        ],
        [
         451,
         "Maximus UM-56",
         "Urban",
         52
        ],
        [
         589,
         "Maximus UC-54",
         "Urban",
         53
        ],
        [
         563,
         "Maximus UC-28",
         "Youth",
         54
        ],
        [
         523,
         "Maximus UE-11",
         "Urban",
         55
        ],
        [
         516,
         "Maximus UE-04",
         "Urban",
         56
        ],
        [
         506,
         "Maximus UM-11",
         "Urban",
         57
        ],
        [
         667,
         "Maximus UC-32",
         "Urban",
         58
        ],
        [
         460,
         "Maximus UM-65",
         "Urban",
         59
        ],
        [
         449,
         "Maximus UM-54",
         "Urban",
         60
        ],
        [
         531,
         "Maximus UE-19",
         "Urban",
         61
        ],
        [
         650,
         "Maximus UC-15",
         "Urban",
         62
        ],
        [
         426,
         "Maximus UM-31",
         "Urban",
         63
        ],
        [
         556,
         "Maximus UC-21",
         "Mix",
         64
        ],
        [
         590,
         "Maximus UC-55",
         "Urban",
         65
        ],
        [
         672,
         "Maximus UC-37",
         "Urban",
         66
        ],
        [
         430,
         "Maximus UM-35",
         "Urban",
         67
        ],
        [
         659,
         "Maximus UC-24",
         "Urban",
         68
        ],
        [
         666,
         "Maximus UC-31",
         "Urban",
         69
        ],
        [
         633,
         "Maximus UC-98",
         "Urban",
         70
        ],
        [
         593,
         "Maximus UC-58",
         "Urban",
         71
        ],
        [
         445,
         "Maximus UM-50",
         "Urban",
         72
        ],
        [
         433,
         "Maximus UM-38",
         "Urban",
         73
        ],
        [
         676,
         "Maximus UC-41",
         "Urban",
         74
        ],
        [
         554,
         "Maximus UC-19",
         "Mix",
         75
        ],
        [
         549,
         "Maximus UC-14",
         "Mix",
         76
        ],
        [
         440,
         "Maximus UM-45",
         "Urban",
         77
        ],
        [
         615,
         "Maximus UC-80",
         "Urban",
         78
        ],
        [
         588,
         "Maximus UC-53",
         "Urban",
         79
        ],
        [
         429,
         "Maximus UM-34",
         "Urban",
         80
        ],
        [
         412,
         "Maximus UM-17",
         "Urban",
         81
        ],
        [
         487,
         "Maximus UM-92",
         "Urban",
         82
        ],
        [
         499,
         "Maximus UM-04",
         "Urban",
         83
        ],
        [
         456,
         "Maximus UM-61",
         "Urban",
         84
        ],
        [
         496,
         "Maximus UM-01",
         "Urban",
         85
        ],
        [
         489,
         "Maximus UM-94",
         "Urban",
         86
        ],
        [
         461,
         "Maximus UM-66",
         "Urban",
         87
        ],
        [
         517,
         "Maximus UE-05",
         "Urban",
         88
        ],
        [
         476,
         "Maximus UM-81",
         "Urban",
         89
        ],
        [
         428,
         "Maximus UM-33",
         "Urban",
         90
        ],
        [
         494,
         "Maximus UM-99",
         "Urban",
         91
        ],
        [
         527,
         "Maximus UE-15",
         "Urban",
         92
        ],
        [
         532,
         "Maximus UE-20",
         "Urban",
         93
        ],
        [
         629,
         "Maximus UC-94",
         "Urban",
         94
        ],
        [
         481,
         "Maximus UM-86",
         "Urban",
         95
        ],
        [
         450,
         "Maximus UM-55",
         "Urban",
         96
        ],
        [
         475,
         "Maximus UM-80",
         "Urban",
         97
        ],
        [
         524,
         "Maximus UE-12",
         "Urban",
         98
        ],
        [
         602,
         "Maximus UC-67",
         "Urban",
         99
        ],
        [
         466,
         "Maximus UM-71",
         "Urban",
         100
        ],
        [
         410,
         "Maximus UM-15",
         "Urban",
         101
        ],
        [
         417,
         "Maximus UM-22",
         "Urban",
         102
        ],
        [
         544,
         "Maximus UC-09",
         "Mix",
         103
        ],
        [
         689,
         "Maximus UC-54",
         "Urban",
         104
        ],
        [
         419,
         "Maximus UM-24",
         "Urban",
         105
        ],
        [
         427,
         "Maximus UM-32",
         "Urban",
         106
        ],
        [
         405,
         "Maximus UM-10",
         "Accessory",
         107
        ],
        [
         498,
         "Maximus UM-03",
         "Urban",
         108
        ],
        [
         406,
         "Maximus UM-11",
         "Accessory",
         109
        ],
        [
         394,
         "Maximus RS-01",
         "Rural",
         110
        ],
        [
         568,
         "Maximus UC-33",
         "Youth",
         111
        ],
        [
         407,
         "Maximus UM-12",
         "Accessory",
         112
        ],
        [
         396,
         "Maximus UM-01",
         "Accessory",
         113
        ],
        [
         400,
         "Maximus UM-05",
         "Accessory",
         114
        ],
        [
         576,
         "Maximus UC-41",
         "Youth",
         115
        ],
        [
         510,
         "Maximus UM-15",
         "Urban",
         116
        ],
        [
         402,
         "Maximus UM-07",
         "Accessory",
         117
        ],
        [
         403,
         "Maximus UM-08",
         "Accessory",
         118
        ]
       ],
       "datasetInfos": [],
       "dbfsResultPath": null,
       "isJsonSchema": true,
       "metadata": {},
       "overflow": false,
       "plotOptions": {
        "customPlotOptions": {},
        "displayType": "table",
        "pivotAggregation": null,
        "pivotColumns": null,
        "xColumns": null,
        "yColumns": null
       },
       "removedWidgets": [],
       "schema": [
        {
         "metadata": "{}",
         "name": "IDProduto",
         "type": "\"integer\""
        },
        {
         "metadata": "{}",
         "name": "Produto",
         "type": "\"string\""
        },
        {
         "metadata": "{}",
         "name": "Categoria",
         "type": "\"string\""
        },
        {
         "metadata": "{}",
         "name": "sk_produto",
         "type": "\"long\""
        }
       ],
       "type": "table"
      }
     },
     "output_type": "display_data"
    },
    {
     "output_type": "stream",
     "name": "stdout",
     "output_type": "stream",
     "text": [
      "Out[3]: 118"
     ]
    }
   ],
   "source": [
    "# 1. Importar a função para gerar chaves substitutas (monotonicamente crescentes).\n",
    "from pyspark.sql.functions import monotonically_increasing_id\n",
    "\n",
    "# 2. Definir o nome da tabela de destino para melhor organização no Data Lake.\n",
    "tb_destino = \"dim_produto\"  # Nome da tabela de dimensão para identificar produtos.\n",
    "\n",
    "# 3. Extrair informações únicas de produtos:\n",
    "# Selecionamos as colunas relevantes para a dimensão Produto e removemos duplicidades.\n",
    "dim_produto_df = df_silver.select(\n",
    "    \"IDProduto\", \"Produto\", \"Categoria\"  # Atributos necessários para a dimensão.\n",
    ").dropDuplicates()  # Garante que cada combinação de Produto seja única.\n",
    "\n",
    "# 4. Adicionar uma chave substituta (surrogate key):\n",
    "# A chave substituta é gerada para cada linha, começando a partir de 1.\n",
    "dim_produto_df = dim_produto_df.withColumn(\"sk_produto\", monotonically_increasing_id() + 1)\n",
    "\n",
    "# 5. Escrever a tabela de dimensão no formato Delta:\n",
    "# O formato Delta é usado para suporte a transações ACID e otimização de consultas.\n",
    "dim_produto_df.write.format(\"delta\") \\\n",
    "               .mode(\"overwrite\") \\\n",
    "               .save(f\"{gold_path}/{tb_destino}\")\n",
    "\n",
    "# Explicação do código acima:\n",
    "# format(\"delta\"): Define o formato de saída como Delta.\n",
    "# Substitui os dados existentes, se houver.\n",
    "# Salva no caminho da camada Gold.\n",
    "\n",
    "# Código adicional para verificação:\n",
    "display(dim_produto_df)  # Exibe os dados processados para validação.\n",
    "dim_produto_df.count()  # Conta o número de registros na dimensão.\n",
    "\n"
   ]
  },
  {
   "cell_type": "markdown",
   "metadata": {
    "application/vnd.databricks.v1+cell": {
     "cellMetadata": {},
     "inputWidgets": {},
     "nuid": "0d94bb08-193a-468c-ac70-f0a6717d4d01",
     "showTitle": false,
     "tableResultSettingsMap": {},
     "title": ""
    }
   },
   "source": [
    "#### Criação da Dimensão Categoria\n",
    "\n",
    "Nesta etapa, criamos a dimensão Categoria, que serve como uma tabela auxiliar para organizar as categorias únicas presentes nos dados. Cada categoria é identificada por uma chave substituta (surrogate key), adicionada para facilitar a integração e otimização em modelos dimensionais."
   ]
  },
  {
   "cell_type": "code",
   "execution_count": 0,
   "metadata": {
    "application/vnd.databricks.v1+cell": {
     "cellMetadata": {
      "byteLimit": 2048000,
      "rowLimit": 10000
     },
     "inputWidgets": {},
     "nuid": "b4c76be5-072c-4996-ae80-999083113e96",
     "showTitle": false,
     "tableResultSettingsMap": {},
     "title": ""
    }
   },
   "outputs": [
    {
     "output_type": "stream",
     "name": "stdout",
     "output_type": "stream",
     "text": [
      "Out[4]: 5"
     ]
    }
   ],
   "source": [
    "# 1. Importar a função necessária para gerar chaves substitutas.\n",
    "from pyspark.sql.functions import monotonically_increasing_id\n",
    "\n",
    "# 2. Definir o nome da tabela de destino para organização no Data Lake.\n",
    "tb_destino = \"dim_categoria\"  # Nome da tabela de dimensão para categorias.\n",
    "\n",
    "# 3. Extrair categorias únicas:\n",
    "# Selecionamos a coluna \"Categoria\" do conjunto de dados e removemos duplicatas para criar uma lista única.\n",
    "dim_categoria_df = df_silver.select(\n",
    "    \"Categoria\"  # Coluna necessária para a dimensão.\n",
    ").dropDuplicates()  # Garante que cada categoria apareça apenas uma vez.\n",
    "\n",
    "# 4. Adicionar uma chave substituta (surrogate key):\n",
    "# A chave substituta é criada para cada linha, começando a partir de 1.\n",
    "dim_categoria_df = dim_categoria_df.withColumn(\"sk_categoria\", monotonically_increasing_id() + 1)\n",
    "\n",
    "# 5. Escrever a tabela de dimensão no formato Delta:\n",
    "# Usamos o formato Delta para maior robustez e otimização, substituindo dados existentes.\n",
    "dim_categoria_df.write.format(\"delta\") \\\n",
    "                 .mode(\"overwrite\") \\\n",
    "                 .save(f\"{gold_path}/{tb_destino}\")\n",
    "\n",
    "# Explicação do código acima:\n",
    "# format(\"delta\"): Define o formato de saída como Delta.\n",
    "# Substitui os dados existentes, se houver.\n",
    "# Salva no caminho da camada Gold.\n",
    "\n",
    "# 6. Contar os registros da dimensão:\n",
    "# Realiza uma contagem de registros para validação.\n",
    "dim_categoria_df.count()  # Conta o número de categorias únicas processadas.\n"
   ]
  },
  {
   "cell_type": "markdown",
   "metadata": {
    "application/vnd.databricks.v1+cell": {
     "cellMetadata": {},
     "inputWidgets": {},
     "nuid": "2ee07048-c344-4422-b5f9-0a6070fcb3be",
     "showTitle": false,
     "tableResultSettingsMap": {},
     "title": ""
    }
   },
   "source": [
    "#### Criação da Dimensão Segmento\n",
    "\n",
    "Nesta etapa, criamos a dimensão Segmento, que contém os segmentos únicos dos dados. A principal função dessa tabela é organizar os dados por segmentos específicos, facilitando consultas e análises relacionadas a esses grupos. Para garantir que cada segmento tenha uma identificação única, adicionamos uma chave substituta (surrogate key). Essa chave facilita a integridade dos dados e a integração com outras tabelas no modelo dimensional."
   ]
  },
  {
   "cell_type": "code",
   "execution_count": 0,
   "metadata": {
    "application/vnd.databricks.v1+cell": {
     "cellMetadata": {
      "byteLimit": 2048000,
      "rowLimit": 10000
     },
     "inputWidgets": {},
     "nuid": "06a714b6-0003-468d-8fd7-f8707c9dc2ed",
     "showTitle": false,
     "tableResultSettingsMap": {},
     "title": ""
    }
   },
   "outputs": [
    {
     "output_type": "stream",
     "name": "stdout",
     "output_type": "stream",
     "text": [
      "Out[5]: 9"
     ]
    }
   ],
   "source": [
    "# 1. Definir o nome da tabela de destino para a dimensão Segmento.\n",
    "tb_destino = \"dim_segmento\"  # Nome da tabela de dimensão para os segmentos.\n",
    "\n",
    "# 2. Extrair segmentos únicos:\n",
    "# Selecionamos a coluna \"Segmento\" do DataFrame df_silver e removemos as duplicatas para garantir que cada segmento apareça apenas uma vez.\n",
    "dim_segmento_df = df_silver.select(\n",
    "   \"Segmento\"  # Coluna necessária para a dimensão.\n",
    ").dropDuplicates()  # Remove duplicatas, garantindo que cada segmento seja único.\n",
    "\n",
    "# 3. Adicionar chave substituta (surrogate key):\n",
    "# A chave substituta é gerada para garantir que cada linha tenha uma identidade única, começando de 1.\n",
    "dim_segmento_df = dim_segmento_df.withColumn(\"sk_segmento\", monotonically_increasing_id() + 1)\n",
    "\n",
    "# 4. Escrever a tabela de dimensão no formato Delta:\n",
    "# Usamos o formato Delta para garantir consistência e otimização na leitura/escrita de dados.\n",
    "dim_segmento_df.write.format(\"delta\") \\\n",
    "                 .mode(\"overwrite\") \\\n",
    "                 .save(f\"{gold_path}/{tb_destino}\")\n",
    "\n",
    "# Explicação do código acima:\n",
    "# format(\"delta\"): Define o formato de saída como Delta.\n",
    "# Substitui os dados existentes, se houver.\n",
    "# Salva no caminho da camada Gold.\n",
    "\n",
    "# 5. Contar o número de registros na dimensão:\n",
    "# Realiza uma contagem para verificar o número de segmentos únicos processados.\n",
    "dim_segmento_df.count()  # Conta o número de segmentos únicos na dimensão.\n"
   ]
  },
  {
   "cell_type": "markdown",
   "metadata": {
    "application/vnd.databricks.v1+cell": {
     "cellMetadata": {},
     "inputWidgets": {},
     "nuid": "e0512929-2490-4b5e-b8c8-8ba6bfb665a1",
     "showTitle": false,
     "tableResultSettingsMap": {},
     "title": ""
    }
   },
   "source": [
    "#### Criação da Dimensão Fabricante\n",
    "\n",
    "Nesta etapa, criamos a dimensão Fabricante, que armazena informações sobre os fabricantes dos produtos. Essa tabela é essencial para a análise detalhada de vendas e a compreensão das contribuições de diferentes fabricantes para o desempenho das vendas. Assim como nas outras dimensões, aplicamos uma chave substituta (surrogate key) para garantir uma identidade única para cada fabricante, facilitando a integração com as outras tabelas do modelo dimensional."
   ]
  },
  {
   "cell_type": "code",
   "execution_count": 0,
   "metadata": {
    "application/vnd.databricks.v1+cell": {
     "cellMetadata": {
      "byteLimit": 2048000,
      "rowLimit": 10000
     },
     "inputWidgets": {},
     "nuid": "70901c02-4536-46cf-921b-d67af21c42c9",
     "showTitle": false,
     "tableResultSettingsMap": {},
     "title": ""
    }
   },
   "outputs": [
    {
     "output_type": "stream",
     "name": "stdout",
     "output_type": "stream",
     "text": [
      "Out[6]: 1"
     ]
    }
   ],
   "source": [
    "# 1. Definir o nome da tabela de destino para a dimensão Fabricante.\n",
    "tb_destino = \"dim_fabricante\"  # Nome da tabela de dimensão para os fabricantes.\n",
    "\n",
    "# 2. Extrair fabricantes únicos:\n",
    "# Selecionamos as colunas \"IDFabricante\" e \"Fabricante\" do DataFrame df_silver,\n",
    "# garantindo que apenas os fabricantes únicos sejam extraídos.\n",
    "dim_fabricante_df = df_silver.select(\n",
    "    \"IDFabricante\", \"Fabricante\"  # Colunas necessárias para a dimensão de fabricantes.\n",
    ").dropDuplicates()  # Remove duplicatas, garantindo que cada fabricante seja único.\n",
    "\n",
    "# 3. Adicionar chave substituta (surrogate key):\n",
    "# A chave substituta é gerada para garantir que cada fabricante tenha uma identidade única.\n",
    "dim_fabricante_df = dim_fabricante_df.withColumn(\"sk_fabricante\", monotonically_increasing_id() + 1)\n",
    "\n",
    "# 4. Escrever a tabela de dimensão no formato Delta:\n",
    "# Utilizamos o formato Delta para garantir integridade transacional e otimização no desempenho de leitura/escrita.\n",
    "dim_fabricante_df.write.format(\"delta\") \\\n",
    "                 .mode(\"overwrite\") \\\n",
    "                 .save(f\"{gold_path}/{tb_destino}\")\n",
    "\n",
    "# Explicação do código acima:\n",
    "# format(\"delta\"): Define o formato de saída como Delta.\n",
    "# Substitui os dados existentes, se houver.\n",
    "# Salva no caminho da camada Gold.\n",
    "\n",
    "# 5. Contar o número de registros na dimensão:\n",
    "# Realiza uma contagem para verificar quantos fabricantes foram processados.\n",
    "dim_fabricante_df.count()  # Conta o número de fabricantes únicos na dimensão.\n"
   ]
  },
  {
   "cell_type": "markdown",
   "metadata": {
    "application/vnd.databricks.v1+cell": {
     "cellMetadata": {},
     "inputWidgets": {},
     "nuid": "1d773f73-b841-4d21-8920-dc283964490d",
     "showTitle": false,
     "tableResultSettingsMap": {},
     "title": ""
    }
   },
   "source": [
    "#### Criação da Dimensão Geografia\n",
    "\n",
    "Nesta etapa, estamos criando a dimensão Geografia, que armazena informações relacionadas ao local geográfico dos dados, como cidade, estado, região, distrito, país e código postal. Essa tabela é fundamental para análises que envolvem a localização geográfica, como estudos regionais de vendas ou distribuição. Assim como nas outras dimensões, adicionamos uma chave substituta para garantir a unicidade de cada registro de geografia e facilitar a integração com outras dimensões e fatos no modelo dimensional."
   ]
  },
  {
   "cell_type": "code",
   "execution_count": 0,
   "metadata": {
    "application/vnd.databricks.v1+cell": {
     "cellMetadata": {
      "byteLimit": 2048000,
      "rowLimit": 10000
     },
     "inputWidgets": {},
     "nuid": "85b8e642-0b0d-44b8-8939-2bbd1b43a8ad",
     "showTitle": false,
     "tableResultSettingsMap": {},
     "title": ""
    }
   },
   "outputs": [
    {
     "output_type": "stream",
     "name": "stdout",
     "output_type": "stream",
     "text": [
      "Out[7]: 20513"
     ]
    }
   ],
   "source": [
    "# 1. Definir o nome da tabela de destino para a dimensão Geografia.\n",
    "tb_destino = \"dim_geografia\"  # Nome da tabela de dimensão para dados geográficos.\n",
    "\n",
    "# 2. Extrair registros únicos para a dimensão Geografia:\n",
    "# Selecionamos as colunas de localização geográfica (Cidade, Estado, Região, etc.) e garantimos que sejam únicas.\n",
    "dim_geografia_df = df_silver.select(\n",
    "    \"Cidade\", \"Estado\", \"Regiao\", \"Distrito\", \"Pais\", \"CodigoPostal\"  # Colunas geográficas necessárias.\n",
    ").dropDuplicates()  # Remove duplicatas, garantindo que cada combinação de geografia seja única.\n",
    "\n",
    "# 3. Adicionar chave substituta (surrogate key):\n",
    "# A chave substituta é gerada para garantir que cada geografia tenha uma identidade única.\n",
    "dim_geografia_df = dim_geografia_df.withColumn(\"sk_geografia\", monotonically_increasing_id() + 1)\n",
    "\n",
    "# 4. Escrever a tabela de dimensão no formato Delta:\n",
    "# Utilizamos o formato Delta para garantir integridade transacional e otimização no desempenho de leitura/escrita.\n",
    "dim_geografia_df.write.format(\"delta\") \\\n",
    "                 .mode(\"overwrite\") \\\n",
    "                 .save(f\"{gold_path}/{tb_destino}\")\n",
    "\n",
    "# Explicação do código acima:\n",
    "# format(\"delta\"): Define o formato de saída como Delta.\n",
    "# Substitui os dados existentes, se houver.\n",
    "# Salva no caminho da camada Gold.\n",
    "\n",
    "# 5. Contar o número de registros na dimensão:\n",
    "# Realiza uma contagem para verificar quantas geografias foram processadas.\n",
    "dim_geografia_df.count()  # Conta o número de registros únicos de geografia na dimensão.\n"
   ]
  },
  {
   "cell_type": "markdown",
   "metadata": {
    "application/vnd.databricks.v1+cell": {
     "cellMetadata": {},
     "inputWidgets": {},
     "nuid": "a91c0c15-c4b6-4151-a6dd-f5ec06c17644",
     "showTitle": false,
     "tableResultSettingsMap": {},
     "title": ""
    }
   },
   "source": [
    "#### Criação da Dimensão Cliente\n",
    "\n",
    "Nesta etapa, estamos criando a dimensão Cliente, que armazena informações detalhadas sobre os clientes, como nome, e-mail e dados de localização (cidade, estado, etc.). A criação dessa dimensão permite que as análises de vendas ou outros indicadores possam ser segmentadas por cliente, facilitando o entendimento do comportamento e preferências de compra. Além disso, a dimensão cliente será associada à dimensão Geografia, utilizando a chave substituta (SK) para garantir a integridade dos dados."
   ]
  },
  {
   "cell_type": "code",
   "execution_count": 0,
   "metadata": {
    "application/vnd.databricks.v1+cell": {
     "cellMetadata": {
      "byteLimit": 2048000,
      "rowLimit": 10000
     },
     "inputWidgets": {},
     "nuid": "79718e5c-d2a2-4f67-a11a-92d1fe24562e",
     "showTitle": false,
     "tableResultSettingsMap": {},
     "title": ""
    }
   },
   "outputs": [
    {
     "output_type": "stream",
     "name": "stdout",
     "output_type": "stream",
     "text": [
      "Out[8]: 116280"
     ]
    }
   ],
   "source": [
    "# 1. Definir o nome da tabela de destino para a dimensão Cliente.\n",
    "tb_destino = \"dim_cliente\"  # Nome da tabela de dimensão para os clientes.\n",
    "\n",
    "# 2. Importar as funções necessárias do PySpark.\n",
    "from pyspark.sql.functions import col, monotonically_increasing_id\n",
    "\n",
    "# 3. Extrair clientes únicos para a dimensão Cliente:\n",
    "# Selecionamos as colunas necessárias e removemos duplicatas para garantir que cada cliente seja único.\n",
    "dim_cliente_df = df_silver.select(\n",
    "    \"IDCliente\", \"Nome\", \"Email\", \"Cidade\", \"Estado\", \"Regiao\", \"Distrito\", \"Pais\", \"CodigoPostal\"  # Informações do cliente.\n",
    ").dropDuplicates()  # Remove duplicatas, garantindo clientes únicos.\n",
    "\n",
    "# 4. Realizar o join com a dimensão Geografia para obter a chave substituta (SK_Geografia):\n",
    "# Associamos a dimensão Cliente à dimensão Geografia, usando os campos de localização (cidade, estado, etc.).\n",
    "dim_cliente_com_sk_df = dim_cliente_df.alias(\"cliente\") \\\n",
    "    .join(dim_geografia_df.alias(\"geografia\"), \n",
    "          (col(\"cliente.Cidade\") == col(\"geografia.Cidade\")) &  # Comparando cidade\n",
    "          (col(\"cliente.Estado\") == col(\"geografia.Estado\")) &  # Comparando estado\n",
    "          (col(\"cliente.Regiao\") == col(\"geografia.Regiao\")) &  # Comparando região\n",
    "          (col(\"cliente.Distrito\") == col(\"geografia.Distrito\")) &  # Comparando distrito\n",
    "          (col(\"cliente.Pais\") == col(\"geografia.Pais\")) &  # Comparando país\n",
    "          (col(\"cliente.CodigoPostal\") == col(\"geografia.CodigoPostal\")),  # Comparando código postal\n",
    "          \"left\") \\\n",
    "    .select(\"cliente.IDCliente\", \"cliente.Nome\", \"cliente.Email\", \"geografia.sk_geografia\")  # Seleciona as colunas de interesse.\n",
    "\n",
    "# 5. Adicionar chave substituta (SK_Cliente):\n",
    "# A chave substituta garante a integridade dos dados e permite vincular a dimensão Cliente com outras tabelas.\n",
    "dim_cliente_com_sk_df = dim_cliente_com_sk_df.withColumn(\"sk_cliente\", monotonically_increasing_id() + 1)\n",
    "\n",
    "# 6. Selecionar as colunas finais para a dimensão Cliente:\n",
    "# Após adicionar a chave substituta, selecionamos as colunas finais a serem salvas na tabela.\n",
    "dim_cliente_com_sk_df = dim_cliente_com_sk_df.select(\"IDCliente\", \"Nome\", \"Email\", \"sk_geografia\", \"sk_cliente\")\n",
    "\n",
    "# 7. Escrever a Dimensão Cliente no formato Delta:\n",
    "# Salvamos a dimensão Cliente no formato Delta, que oferece transações ACID e desempenho otimizado para leitura e escrita.\n",
    "dim_cliente_com_sk_df.write.format(\"delta\").mode(\"overwrite\").save(f\"{gold_path}/{tb_destino}\")\n",
    "\n",
    "# 8. Contar o número de registros na Dimensão Cliente:\n",
    "# Realiza uma contagem para verificar quantos clientes foram processados.\n",
    "dim_cliente_com_sk_df.count()  # Conta o número de registros na dimensão cliente.\n"
   ]
  },
  {
   "cell_type": "markdown",
   "metadata": {
    "application/vnd.databricks.v1+cell": {
     "cellMetadata": {},
     "inputWidgets": {},
     "nuid": "08ff59d1-1d79-4cef-8869-06880ece2d04",
     "showTitle": false,
     "tableResultSettingsMap": {},
     "title": ""
    }
   },
   "source": [
    "#### Criação de Tabela Fato\n",
    "\n",
    "Neste processo, estamos criando a tabela Fato de Vendas, que contém as transações de vendas reais, com as chaves substitutas associadas às dimensões previamente criadas (como Produto, Categoria, Segmento, Fabricante, e Cliente). Essa tabela é crucial para análises analíticas de vendas, como a agregação de unidades vendidas, receitas e custos. A tabela será particionada por Ano e Mês para otimizar o desempenho de leitura e escrita em consultas de grandes volumes de dados."
   ]
  },
  {
   "cell_type": "code",
   "execution_count": 0,
   "metadata": {
    "application/vnd.databricks.v1+cell": {
     "cellMetadata": {
      "byteLimit": 2048000,
      "rowLimit": 10000
     },
     "inputWidgets": {},
     "nuid": "62cce489-6e8e-4461-92d3-0aee50fdd7f0",
     "showTitle": false,
     "tableResultSettingsMap": {},
     "title": ""
    }
   },
   "outputs": [
    {
     "output_type": "stream",
     "name": "stdout",
     "output_type": "stream",
     "text": [
      "Out[10]: 116895"
     ]
    }
   ],
   "source": [
    "# 1. Definir o nome da tabela de destino para a tabela Fato.\n",
    "tb_destino = \"fato_vendas\"  # Nome da tabela que armazena as transações de vendas.\n",
    "\n",
    "# 2. Importar as funções necessárias do PySpark.\n",
    "from pyspark.sql.functions import broadcast, year, month\n",
    "\n",
    "# 3. Juntar dados da camada Silver com as dimensões para obter as chaves substitutas (SKs):\n",
    "# A operação join é usada para associar a tabela de vendas (df_silver) com as dimensões previamente criadas (Produto, Categoria, Segmento, Fabricante, Cliente).\n",
    "# O broadcast é utilizado para otimizar a junção, distribuindo eficientemente as tabelas menores.\n",
    "fato_vendas_df = df_silver.alias(\"s\") \\\n",
    "    .join(broadcast(dim_produto_df.select(\"IDProduto\", \"sk_produto\").alias(\"dprod\")), \"IDProduto\") \\\n",
    "    .join(broadcast(dim_categoria_df.select(\"Categoria\", \"sk_categoria\").alias(\"dcat\")), \"Categoria\") \\\n",
    "    .join(broadcast(dim_segmento_df.select(\"Segmento\", \"sk_segmento\").alias(\"dseg\")), \"Segmento\") \\\n",
    "    .join(broadcast(dim_fabricante_df.select(\"Fabricante\", \"sk_fabricante\").alias(\"dfab\")), \"Fabricante\") \\\n",
    "    .join(broadcast(dim_cliente_com_sk_df.select(\"IDCliente\", \"sk_cliente\").alias(\"dcli\")), \"IDCliente\") \\\n",
    "    .select(  # Seleciona as colunas de interesse para a tabela Fato.\n",
    "        col(\"s.Data\").alias(\"DataVenda\"),  # Data da venda\n",
    "        \"sk_produto\",  # Chave substituta para o Produto\n",
    "        \"sk_categoria\",  # Chave substituta para a Categoria\n",
    "        \"sk_segmento\",  # Chave substituta para o Segmento\n",
    "        \"sk_fabricante\",  # Chave substituta para o Fabricante\n",
    "        \"sk_cliente\",  # Chave substituta para o Cliente\n",
    "        \"Unidades\",  # Número de unidades vendidas\n",
    "        col(\"s.PrecoUnitario\"),  # Preço unitário\n",
    "        col(\"s.CustoUnitario\"),  # Custo unitário\n",
    "        col(\"s.TotalVendas\")  # Valor total da venda\n",
    "    )\n",
    "\n",
    "# 4. Escrever a tabela Fato no formato Delta:\n",
    "# A tabela Fato será salva no formato Delta, o que garante transações ACID, desempenho otimizado e a capacidade de fazer upserts.\n",
    "# A tabela será particionada por Ano e Mês para otimizar consultas baseadas em datas.\n",
    "fato_vendas_df.withColumn(\"Ano\", year(\"DataVenda\")) \\\n",
    "             .withColumn(\"Mes\", month(\"DataVenda\")) \\\n",
    "             .write.format(\"delta\") \\\n",
    "             .mode(\"overwrite\") \\\n",
    "             .option(\"MaxRecordsPerFile\", 1000000) \\\n",
    "             .partitionBy(\"Ano\", \"Mes\") \\\n",
    "             .save(f\"{gold_path}/{tb_destino}\")\n",
    "\n",
    "# Explicação do código acima\n",
    "# withColumn(\"Ano\", year(\"DataVenda\")): Criação da coluna \"Ano\"\n",
    "# withColumn(\"Mes\", month(\"DataVenda\")): Criação da coluna \"Mes\"\n",
    "# format(\"delta\"): Usando formato Delta para transações ACID\n",
    "# mode(\"overwrite\"): Modo overwrite para sobrescrever dados existentes\n",
    "# MaxRecordsPerFile: Definir limite de registros por arquivo para evitar arquivos muito grandes\n",
    "# partitionBy(\"Ano\", \"Mes\") : Particionar dados por Ano e Mês para otimizar consultas\n",
    "# save(f\"{gold_path}/{tb_destino}\"): Salvar a tabela Fato no caminho especificado.\n",
    "\n",
    "# 5. Contar o número de registros na Tabela Fato:\n",
    "# Realiza uma contagem para verificar quantos registros de vendas foram processados.\n",
    "fato_vendas_df.count()  # Contagem do número de registros na tabela Fato.\n"
   ]
  },
  {
   "cell_type": "markdown",
   "metadata": {
    "application/vnd.databricks.v1+cell": {
     "cellMetadata": {},
     "inputWidgets": {},
     "nuid": "c47ecd5e-a69c-490b-9dc0-52c5ef5762aa",
     "showTitle": false,
     "tableResultSettingsMap": {},
     "title": ""
    }
   },
   "source": [
    "### Limpeza de Memória\n",
    "\n",
    "Após realizar operações pesadas de processamento de dados, como junções complexas, leituras e gravações, é importante liberar memória para garantir que o ambiente do Spark continue eficiente e sem sobrecarregar o sistema. O código abaixo é usado para realizar a limpeza de memória de forma eficaz."
   ]
  },
  {
   "cell_type": "code",
   "execution_count": 0,
   "metadata": {
    "application/vnd.databricks.v1+cell": {
     "cellMetadata": {
      "byteLimit": 2048000,
      "rowLimit": 10000
     },
     "inputWidgets": {},
     "nuid": "27462067-a7da-4f34-b982-e310dc50e3f0",
     "showTitle": false,
     "tableResultSettingsMap": {},
     "title": ""
    }
   },
   "outputs": [],
   "source": [
    "# 1. Importação da biblioteca para gerenciamento de memória\n",
    "import gc  # gc (Garbage Collector) é uma biblioteca que permite gerenciar a memória, coletando objetos não utilizados.\n",
    "\n",
    "# 2. Coletar lixo (garbage collection) para liberar memória após operações pesadas\n",
    "gc.collect()  # Coleta os objetos que não estão mais em uso na memória e os remove, liberando espaço.\n",
    "\n",
    "# 3. Limpar todos os dados em cache do Spark\n",
    "spark.catalog.clearCache()  # Limpa todos os dados armazenados em cache pelo Spark, liberando memória."
   ]
  },
  {
   "cell_type": "markdown",
   "metadata": {
    "application/vnd.databricks.v1+cell": {
     "cellMetadata": {},
     "inputWidgets": {},
     "nuid": "1cd6a30c-3006-45e9-a214-804f6585fc90",
     "showTitle": false,
     "tableResultSettingsMap": {},
     "title": ""
    }
   },
   "source": [
    "###Verificação dos arquivos gerados"
   ]
  },
  {
   "cell_type": "code",
   "execution_count": 0,
   "metadata": {
    "application/vnd.databricks.v1+cell": {
     "cellMetadata": {
      "byteLimit": 2048000,
      "rowLimit": 10000
     },
     "inputWidgets": {},
     "nuid": "4cf5e58d-211f-462c-aa49-df69d4ababf9",
     "showTitle": false,
     "tableResultSettingsMap": {},
     "title": ""
    }
   },
   "outputs": [
    {
     "output_type": "display_data",
     "data": {
      "text/html": [
       "<style scoped>\n",
       "  .table-result-container {\n",
       "    max-height: 300px;\n",
       "    overflow: auto;\n",
       "  }\n",
       "  table, th, td {\n",
       "    border: 1px solid black;\n",
       "    border-collapse: collapse;\n",
       "  }\n",
       "  th, td {\n",
       "    padding: 5px;\n",
       "  }\n",
       "  th {\n",
       "    text-align: left;\n",
       "  }\n",
       "</style><div class='table-result-container'><table class='table-result'><thead style='background-color: white'><tr><th>path</th><th>name</th><th>size</th><th>modificationTime</th></tr></thead><tbody><tr><td>dbfs:/mnt/lhdw/gold/vendas_delta/dim_categoria/</td><td>dim_categoria/</td><td>0</td><td>0</td></tr><tr><td>dbfs:/mnt/lhdw/gold/vendas_delta/dim_cliente/</td><td>dim_cliente/</td><td>0</td><td>0</td></tr><tr><td>dbfs:/mnt/lhdw/gold/vendas_delta/dim_fabricante/</td><td>dim_fabricante/</td><td>0</td><td>0</td></tr><tr><td>dbfs:/mnt/lhdw/gold/vendas_delta/dim_geografia/</td><td>dim_geografia/</td><td>0</td><td>0</td></tr><tr><td>dbfs:/mnt/lhdw/gold/vendas_delta/dim_produto/</td><td>dim_produto/</td><td>0</td><td>0</td></tr><tr><td>dbfs:/mnt/lhdw/gold/vendas_delta/dim_segmento/</td><td>dim_segmento/</td><td>0</td><td>0</td></tr><tr><td>dbfs:/mnt/lhdw/gold/vendas_delta/fato_vendas/</td><td>fato_vendas/</td><td>0</td><td>0</td></tr></tbody></table></div>"
      ]
     },
     "metadata": {
      "application/vnd.databricks.v1+output": {
       "addedWidgets": {},
       "aggData": [],
       "aggError": "",
       "aggOverflow": false,
       "aggSchema": [],
       "aggSeriesLimitReached": false,
       "aggType": "",
       "arguments": {},
       "columnCustomDisplayInfos": {},
       "data": [
        [
         "dbfs:/mnt/lhdw/gold/vendas_delta/dim_categoria/",
         "dim_categoria/",
         0,
         0
        ],
        [
         "dbfs:/mnt/lhdw/gold/vendas_delta/dim_cliente/",
         "dim_cliente/",
         0,
         0
        ],
        [
         "dbfs:/mnt/lhdw/gold/vendas_delta/dim_fabricante/",
         "dim_fabricante/",
         0,
         0
        ],
        [
         "dbfs:/mnt/lhdw/gold/vendas_delta/dim_geografia/",
         "dim_geografia/",
         0,
         0
        ],
        [
         "dbfs:/mnt/lhdw/gold/vendas_delta/dim_produto/",
         "dim_produto/",
         0,
         0
        ],
        [
         "dbfs:/mnt/lhdw/gold/vendas_delta/dim_segmento/",
         "dim_segmento/",
         0,
         0
        ],
        [
         "dbfs:/mnt/lhdw/gold/vendas_delta/fato_vendas/",
         "fato_vendas/",
         0,
         0
        ]
       ],
       "datasetInfos": [],
       "dbfsResultPath": null,
       "isJsonSchema": true,
       "metadata": {
        "isDbfsCommandResult": false
       },
       "overflow": false,
       "plotOptions": {
        "customPlotOptions": {},
        "displayType": "table",
        "pivotAggregation": null,
        "pivotColumns": null,
        "xColumns": null,
        "yColumns": null
       },
       "removedWidgets": [],
       "schema": [
        {
         "metadata": "{}",
         "name": "path",
         "type": "\"string\""
        },
        {
         "metadata": "{}",
         "name": "name",
         "type": "\"string\""
        },
        {
         "metadata": "{}",
         "name": "size",
         "type": "\"long\""
        },
        {
         "metadata": "{}",
         "name": "modificationTime",
         "type": "\"long\""
        }
       ],
       "type": "table"
      }
     },
     "output_type": "display_data"
    }
   ],
   "source": [
    "%fs ls /mnt/lhdw/gold/vendas_delta/"
   ]
  },
  {
   "cell_type": "code",
   "execution_count": 0,
   "metadata": {
    "application/vnd.databricks.v1+cell": {
     "cellMetadata": {
      "byteLimit": 2048000,
      "rowLimit": 10000
     },
     "inputWidgets": {},
     "nuid": "ceb50c31-6907-41d5-a917-1c7d9dfe5850",
     "showTitle": false,
     "tableResultSettingsMap": {},
     "title": ""
    }
   },
   "outputs": [
    {
     "output_type": "display_data",
     "data": {
      "text/html": [
       "<style scoped>\n",
       "  .table-result-container {\n",
       "    max-height: 300px;\n",
       "    overflow: auto;\n",
       "  }\n",
       "  table, th, td {\n",
       "    border: 1px solid black;\n",
       "    border-collapse: collapse;\n",
       "  }\n",
       "  th, td {\n",
       "    padding: 5px;\n",
       "  }\n",
       "  th {\n",
       "    text-align: left;\n",
       "  }\n",
       "</style><div class='table-result-container'><table class='table-result'><thead style='background-color: white'><tr><th>path</th><th>name</th><th>size</th><th>modificationTime</th></tr></thead><tbody><tr><td>dbfs:/mnt/lhdw/gold/vendas_delta/dim_categoria/_delta_log/</td><td>_delta_log/</td><td>0</td><td>0</td></tr><tr><td>dbfs:/mnt/lhdw/gold/vendas_delta/dim_categoria/part-00000-2eb98646-bf3d-41a8-9a7d-deb96fcf3d8b-c000.snappy.parquet</td><td>part-00000-2eb98646-bf3d-41a8-9a7d-deb96fcf3d8b-c000.snappy.parquet</td><td>948</td><td>1733235056000</td></tr><tr><td>dbfs:/mnt/lhdw/gold/vendas_delta/dim_categoria/part-00000-823ace36-c270-40c8-8ac2-5c8e532a3c84-c000.snappy.parquet</td><td>part-00000-823ace36-c270-40c8-8ac2-5c8e532a3c84-c000.snappy.parquet</td><td>948</td><td>1734114425000</td></tr></tbody></table></div>"
      ]
     },
     "metadata": {
      "application/vnd.databricks.v1+output": {
       "addedWidgets": {},
       "aggData": [],
       "aggError": "",
       "aggOverflow": false,
       "aggSchema": [],
       "aggSeriesLimitReached": false,
       "aggType": "",
       "arguments": {},
       "columnCustomDisplayInfos": {},
       "data": [
        [
         "dbfs:/mnt/lhdw/gold/vendas_delta/dim_categoria/_delta_log/",
         "_delta_log/",
         0,
         0
        ],
        [
         "dbfs:/mnt/lhdw/gold/vendas_delta/dim_categoria/part-00000-2eb98646-bf3d-41a8-9a7d-deb96fcf3d8b-c000.snappy.parquet",
         "part-00000-2eb98646-bf3d-41a8-9a7d-deb96fcf3d8b-c000.snappy.parquet",
         948,
         1733235056000
        ],
        [
         "dbfs:/mnt/lhdw/gold/vendas_delta/dim_categoria/part-00000-823ace36-c270-40c8-8ac2-5c8e532a3c84-c000.snappy.parquet",
         "part-00000-823ace36-c270-40c8-8ac2-5c8e532a3c84-c000.snappy.parquet",
         948,
         1734114425000
        ]
       ],
       "datasetInfos": [],
       "dbfsResultPath": null,
       "isJsonSchema": true,
       "metadata": {
        "isDbfsCommandResult": false
       },
       "overflow": false,
       "plotOptions": {
        "customPlotOptions": {},
        "displayType": "table",
        "pivotAggregation": null,
        "pivotColumns": null,
        "xColumns": null,
        "yColumns": null
       },
       "removedWidgets": [],
       "schema": [
        {
         "metadata": "{}",
         "name": "path",
         "type": "\"string\""
        },
        {
         "metadata": "{}",
         "name": "name",
         "type": "\"string\""
        },
        {
         "metadata": "{}",
         "name": "size",
         "type": "\"long\""
        },
        {
         "metadata": "{}",
         "name": "modificationTime",
         "type": "\"long\""
        }
       ],
       "type": "table"
      }
     },
     "output_type": "display_data"
    }
   ],
   "source": [
    "%fs ls /mnt/lhdw/gold/vendas_delta/dim_categoria/"
   ]
  },
  {
   "cell_type": "code",
   "execution_count": 0,
   "metadata": {
    "application/vnd.databricks.v1+cell": {
     "cellMetadata": {
      "byteLimit": 2048000,
      "rowLimit": 10000
     },
     "inputWidgets": {},
     "nuid": "b8e990ab-89ec-43a8-9e9d-04afd8739a3c",
     "showTitle": false,
     "tableResultSettingsMap": {},
     "title": ""
    }
   },
   "outputs": [
    {
     "output_type": "display_data",
     "data": {
      "text/html": [
       "<style scoped>\n",
       "  .table-result-container {\n",
       "    max-height: 300px;\n",
       "    overflow: auto;\n",
       "  }\n",
       "  table, th, td {\n",
       "    border: 1px solid black;\n",
       "    border-collapse: collapse;\n",
       "  }\n",
       "  th, td {\n",
       "    padding: 5px;\n",
       "  }\n",
       "  th {\n",
       "    text-align: left;\n",
       "  }\n",
       "</style><div class='table-result-container'><table class='table-result'><thead style='background-color: white'><tr><th>path</th><th>name</th><th>size</th><th>modificationTime</th></tr></thead><tbody><tr><td>dbfs:/mnt/lhdw/gold/vendas_delta/fato_vendas/Ano=2012/Mes=1/</td><td>Mes=1/</td><td>0</td><td>0</td></tr><tr><td>dbfs:/mnt/lhdw/gold/vendas_delta/fato_vendas/Ano=2012/Mes=10/</td><td>Mes=10/</td><td>0</td><td>0</td></tr><tr><td>dbfs:/mnt/lhdw/gold/vendas_delta/fato_vendas/Ano=2012/Mes=11/</td><td>Mes=11/</td><td>0</td><td>0</td></tr><tr><td>dbfs:/mnt/lhdw/gold/vendas_delta/fato_vendas/Ano=2012/Mes=12/</td><td>Mes=12/</td><td>0</td><td>0</td></tr><tr><td>dbfs:/mnt/lhdw/gold/vendas_delta/fato_vendas/Ano=2012/Mes=2/</td><td>Mes=2/</td><td>0</td><td>0</td></tr><tr><td>dbfs:/mnt/lhdw/gold/vendas_delta/fato_vendas/Ano=2012/Mes=3/</td><td>Mes=3/</td><td>0</td><td>0</td></tr><tr><td>dbfs:/mnt/lhdw/gold/vendas_delta/fato_vendas/Ano=2012/Mes=4/</td><td>Mes=4/</td><td>0</td><td>0</td></tr><tr><td>dbfs:/mnt/lhdw/gold/vendas_delta/fato_vendas/Ano=2012/Mes=5/</td><td>Mes=5/</td><td>0</td><td>0</td></tr><tr><td>dbfs:/mnt/lhdw/gold/vendas_delta/fato_vendas/Ano=2012/Mes=6/</td><td>Mes=6/</td><td>0</td><td>0</td></tr><tr><td>dbfs:/mnt/lhdw/gold/vendas_delta/fato_vendas/Ano=2012/Mes=7/</td><td>Mes=7/</td><td>0</td><td>0</td></tr><tr><td>dbfs:/mnt/lhdw/gold/vendas_delta/fato_vendas/Ano=2012/Mes=8/</td><td>Mes=8/</td><td>0</td><td>0</td></tr><tr><td>dbfs:/mnt/lhdw/gold/vendas_delta/fato_vendas/Ano=2012/Mes=9/</td><td>Mes=9/</td><td>0</td><td>0</td></tr></tbody></table></div>"
      ]
     },
     "metadata": {
      "application/vnd.databricks.v1+output": {
       "addedWidgets": {},
       "aggData": [],
       "aggError": "",
       "aggOverflow": false,
       "aggSchema": [],
       "aggSeriesLimitReached": false,
       "aggType": "",
       "arguments": {},
       "columnCustomDisplayInfos": {},
       "data": [
        [
         "dbfs:/mnt/lhdw/gold/vendas_delta/fato_vendas/Ano=2012/Mes=1/",
         "Mes=1/",
         0,
         0
        ],
        [
         "dbfs:/mnt/lhdw/gold/vendas_delta/fato_vendas/Ano=2012/Mes=10/",
         "Mes=10/",
         0,
         0
        ],
        [
         "dbfs:/mnt/lhdw/gold/vendas_delta/fato_vendas/Ano=2012/Mes=11/",
         "Mes=11/",
         0,
         0
        ],
        [
         "dbfs:/mnt/lhdw/gold/vendas_delta/fato_vendas/Ano=2012/Mes=12/",
         "Mes=12/",
         0,
         0
        ],
        [
         "dbfs:/mnt/lhdw/gold/vendas_delta/fato_vendas/Ano=2012/Mes=2/",
         "Mes=2/",
         0,
         0
        ],
        [
         "dbfs:/mnt/lhdw/gold/vendas_delta/fato_vendas/Ano=2012/Mes=3/",
         "Mes=3/",
         0,
         0
        ],
        [
         "dbfs:/mnt/lhdw/gold/vendas_delta/fato_vendas/Ano=2012/Mes=4/",
         "Mes=4/",
         0,
         0
        ],
        [
         "dbfs:/mnt/lhdw/gold/vendas_delta/fato_vendas/Ano=2012/Mes=5/",
         "Mes=5/",
         0,
         0
        ],
        [
         "dbfs:/mnt/lhdw/gold/vendas_delta/fato_vendas/Ano=2012/Mes=6/",
         "Mes=6/",
         0,
         0
        ],
        [
         "dbfs:/mnt/lhdw/gold/vendas_delta/fato_vendas/Ano=2012/Mes=7/",
         "Mes=7/",
         0,
         0
        ],
        [
         "dbfs:/mnt/lhdw/gold/vendas_delta/fato_vendas/Ano=2012/Mes=8/",
         "Mes=8/",
         0,
         0
        ],
        [
         "dbfs:/mnt/lhdw/gold/vendas_delta/fato_vendas/Ano=2012/Mes=9/",
         "Mes=9/",
         0,
         0
        ]
       ],
       "datasetInfos": [],
       "dbfsResultPath": null,
       "isJsonSchema": true,
       "metadata": {
        "isDbfsCommandResult": false
       },
       "overflow": false,
       "plotOptions": {
        "customPlotOptions": {},
        "displayType": "table",
        "pivotAggregation": null,
        "pivotColumns": null,
        "xColumns": null,
        "yColumns": null
       },
       "removedWidgets": [],
       "schema": [
        {
         "metadata": "{}",
         "name": "path",
         "type": "\"string\""
        },
        {
         "metadata": "{}",
         "name": "name",
         "type": "\"string\""
        },
        {
         "metadata": "{}",
         "name": "size",
         "type": "\"long\""
        },
        {
         "metadata": "{}",
         "name": "modificationTime",
         "type": "\"long\""
        }
       ],
       "type": "table"
      }
     },
     "output_type": "display_data"
    }
   ],
   "source": [
    "%fs ls /mnt/lhdw/gold/vendas_delta/fato_vendas/Ano=2012/"
   ]
  }
 ],
 "metadata": {
  "application/vnd.databricks.v1+notebook": {
   "computePreferences": null,
   "dashboards": [],
   "environmentMetadata": null,
   "language": "python",
   "notebookMetadata": {
    "mostRecentlyExecutedCommandWithImplicitDF": {
     "commandId": 738544653530240,
     "dataframes": [
      "_sqldf"
     ]
    },
    "pythonIndentUnit": 4
   },
   "notebookName": "05_camada_gold",
   "widgets": {}
  }
 },
 "nbformat": 4,
 "nbformat_minor": 0
}
