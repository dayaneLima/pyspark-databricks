{
 "cells": [
  {
   "cell_type": "markdown",
   "metadata": {
    "application/vnd.databricks.v1+cell": {
     "cellMetadata": {},
     "inputWidgets": {},
     "nuid": "ad37e8bc-cf61-4bc4-b27f-4b5bff0e79bb",
     "showTitle": false,
     "tableResultSettingsMap": {},
     "title": ""
    }
   },
   "source": [
    "## Criação de tabelas Delta\n",
    "\n",
    "A criação de tabelas Delta, registrando-as no catálogo do Spark, é uma etapa fundamental para garantir que os dados na camada Gold estejam acessíveis para consultas SQL otimizadas e análises futuras. Abaixo está o passo a passo com explicação em cada etapa do código que você forneceu."
   ]
  },
  {
   "cell_type": "markdown",
   "metadata": {
    "application/vnd.databricks.v1+cell": {
     "cellMetadata": {},
     "inputWidgets": {},
     "nuid": "2197cb02-e3a7-4f47-8d73-6f8c173743ce",
     "showTitle": false,
     "tableResultSettingsMap": {},
     "title": ""
    }
   },
   "source": [
    "###Criando Banco de dados"
   ]
  },
  {
   "cell_type": "code",
   "execution_count": 0,
   "metadata": {
    "application/vnd.databricks.v1+cell": {
     "cellMetadata": {
      "byteLimit": 2048000,
      "rowLimit": 10000
     },
     "inputWidgets": {},
     "nuid": "69201c60-bbf1-41e9-b157-dc88b534f562",
     "showTitle": false,
     "tableResultSettingsMap": {},
     "title": ""
    }
   },
   "outputs": [
    {
     "output_type": "stream",
     "name": "stdout",
     "output_type": "stream",
     "text": [
      "Out[1]: DataFrame[]"
     ]
    }
   ],
   "source": [
    "# Criar o banco de dados\n",
    "# O comando abaixo cria um banco de dados chamado 'lhdw_vendas', se ainda não existir.\n",
    "spark.sql(\"CREATE DATABASE IF NOT EXISTS lhdw_vendas\")\n",
    "\n",
    "# Usar o banco de dados\n",
    "# Este comando ativa o banco de dados 'lhdw_vendas' para que as tabelas criadas sejam registradas nele.\n",
    "spark.sql(\"USE lhdw_vendas\")\n"
   ]
  },
  {
   "cell_type": "markdown",
   "metadata": {
    "application/vnd.databricks.v1+cell": {
     "cellMetadata": {},
     "inputWidgets": {},
     "nuid": "2ec41ed8-e166-405e-b5ae-0484c586c8c2",
     "showTitle": false,
     "tableResultSettingsMap": {},
     "title": ""
    }
   },
   "source": [
    "####Criando Tabelas Delta"
   ]
  },
  {
   "cell_type": "code",
   "execution_count": 0,
   "metadata": {
    "application/vnd.databricks.v1+cell": {
     "cellMetadata": {
      "byteLimit": 2048000,
      "rowLimit": 10000
     },
     "inputWidgets": {},
     "nuid": "edb03a6a-f180-4b59-a6fc-f57ff95d1fe4",
     "showTitle": false,
     "tableResultSettingsMap": {},
     "title": ""
    }
   },
   "outputs": [
    {
     "output_type": "stream",
     "name": "stdout",
     "output_type": "stream",
     "text": [
      "+-----------+-----------+-----------+\n|   database|  tableName|isTemporary|\n+-----------+-----------+-----------+\n|lhdw_vendas|dim_produto|      false|\n+-----------+-----------+-----------+\n\n"
     ]
    }
   ],
   "source": [
    "\n",
    "# Registro da tabela Delta - Dimensão Produto\n",
    "# Define o caminho onde os dados Delta da dimensão Produto estão armazenados.\n",
    "delta_table_path = \"dbfs:/mnt/lhdw/gold/vendas_delta/dim_produto\"\n",
    "\n",
    "# O comando SQL abaixo registra a tabela Delta no catálogo do Spark, \n",
    "# associando-a ao banco de dados 'lhdw_vendas'.\n",
    "spark.sql(f\"\"\"\n",
    "    CREATE TABLE IF NOT EXISTS lhdw_vendas.dim_produto\n",
    "    USING DELTA\n",
    "    LOCATION '{delta_table_path}'\n",
    "\"\"\")\n",
    "\n",
    "# Verificar as tabelas criadas\n",
    "# Lista todas as tabelas existentes no banco de dados atual ('lhdw_vendas').\n",
    "spark.sql(\"SHOW TABLES\").show()"
   ]
  },
  {
   "cell_type": "code",
   "execution_count": 0,
   "metadata": {
    "application/vnd.databricks.v1+cell": {
     "cellMetadata": {
      "byteLimit": 2048000,
      "rowLimit": 10000
     },
     "inputWidgets": {},
     "nuid": "509787ca-a43e-4728-9f94-7653848f5c1f",
     "showTitle": false,
     "tableResultSettingsMap": {},
     "title": ""
    }
   },
   "outputs": [
    {
     "output_type": "stream",
     "name": "stdout",
     "output_type": "stream",
     "text": [
      "+-----------+-------------+-----------+\n|   database|    tableName|isTemporary|\n+-----------+-------------+-----------+\n|lhdw_vendas|dim_categoria|      false|\n|lhdw_vendas|  dim_produto|      false|\n+-----------+-------------+-----------+\n\n"
     ]
    }
   ],
   "source": [
    "# Registro da tabela Delta - Dimensão Categoria\n",
    "# Define o caminho dos dados Delta para a dimensão Categoria.\n",
    "delta_table_path = \"dbfs:/mnt/lhdw/gold/vendas_delta/dim_categoria\"\n",
    "\n",
    "# Registra a tabela DimCategoria no banco de dados 'lhdw_vendas'.\n",
    "spark.sql(f\"\"\"\n",
    "    CREATE TABLE IF NOT EXISTS lhdw_vendas.dim_categoria\n",
    "    USING DELTA\n",
    "    LOCATION '{delta_table_path}'\n",
    "\"\"\")\n",
    "\n",
    "# Verifica se a tabela foi criada corretamente.\n",
    "spark.sql(\"SHOW TABLES\").show()"
   ]
  },
  {
   "cell_type": "code",
   "execution_count": 0,
   "metadata": {
    "application/vnd.databricks.v1+cell": {
     "cellMetadata": {
      "byteLimit": 2048000,
      "rowLimit": 10000
     },
     "inputWidgets": {},
     "nuid": "ee1c363c-2569-4475-ba3d-03b08f0a07e5",
     "showTitle": false,
     "tableResultSettingsMap": {},
     "title": ""
    }
   },
   "outputs": [
    {
     "output_type": "stream",
     "name": "stdout",
     "output_type": "stream",
     "text": [
      "+-----------+-------------+-----------+\n|   database|    tableName|isTemporary|\n+-----------+-------------+-----------+\n|lhdw_vendas|dim_categoria|      false|\n|lhdw_vendas|  dim_produto|      false|\n|lhdw_vendas| dim_segmento|      false|\n+-----------+-------------+-----------+\n\n"
     ]
    }
   ],
   "source": [
    "# Registro da tabela Delta - Dimensão Segmento\n",
    "# Define o caminho dos dados Delta para a dimensão Segmento.\n",
    "delta_table_path = \"dbfs:/mnt/lhdw/gold/vendas_delta/dim_segmento\"\n",
    "\n",
    "# Registra a tabela DimSegmento no banco de dados 'lhdw_vendas'.\n",
    "spark.sql(f\"\"\"\n",
    "    CREATE TABLE IF NOT EXISTS lhdw_vendas.dim_segmento\n",
    "    USING DELTA\n",
    "    LOCATION '{delta_table_path}'\n",
    "\"\"\")\n",
    "\n",
    "# Confirmação das tabelas criadas no banco de dados.\n",
    "spark.sql(\"SHOW TABLES\").show()"
   ]
  },
  {
   "cell_type": "code",
   "execution_count": 0,
   "metadata": {
    "application/vnd.databricks.v1+cell": {
     "cellMetadata": {
      "byteLimit": 2048000,
      "rowLimit": 10000
     },
     "inputWidgets": {},
     "nuid": "25b501f1-09f9-4780-9363-6ecea4e4464c",
     "showTitle": false,
     "tableResultSettingsMap": {},
     "title": ""
    }
   },
   "outputs": [
    {
     "output_type": "stream",
     "name": "stdout",
     "output_type": "stream",
     "text": [
      "+-----------+--------------+-----------+\n|   database|     tableName|isTemporary|\n+-----------+--------------+-----------+\n|lhdw_vendas| dim_categoria|      false|\n|lhdw_vendas|dim_fabricante|      false|\n|lhdw_vendas|   dim_produto|      false|\n|lhdw_vendas|  dim_segmento|      false|\n+-----------+--------------+-----------+\n\n"
     ]
    }
   ],
   "source": [
    "# Registro da tabela Delta - Dimensão Fabricante\n",
    "# Define o caminho dos dados Delta para a dimensão Fabricante.\n",
    "delta_table_path = \"dbfs:/mnt/lhdw/gold/vendas_delta/dim_fabricante\"\n",
    "\n",
    "# Registra a tabela DimFabricante no banco de dados 'lhdw_vendas'.\n",
    "spark.sql(f\"\"\"\n",
    "    CREATE TABLE IF NOT EXISTS lhdw_vendas.dim_fabricante\n",
    "    USING DELTA\n",
    "    LOCATION '{delta_table_path}'\n",
    "\"\"\")\n",
    "\n",
    "# Lista todas as tabelas no banco de dados para garantir o registro correto.\n",
    "spark.sql(\"SHOW TABLES\").show()"
   ]
  },
  {
   "cell_type": "code",
   "execution_count": 0,
   "metadata": {
    "application/vnd.databricks.v1+cell": {
     "cellMetadata": {
      "byteLimit": 2048000,
      "rowLimit": 10000
     },
     "inputWidgets": {},
     "nuid": "6a5ed532-8fc6-47ee-8042-b7f951b11a62",
     "showTitle": false,
     "tableResultSettingsMap": {},
     "title": ""
    }
   },
   "outputs": [
    {
     "output_type": "stream",
     "name": "stdout",
     "output_type": "stream",
     "text": [
      "+-----------+--------------+-----------+\n|   database|     tableName|isTemporary|\n+-----------+--------------+-----------+\n|lhdw_vendas| dim_categoria|      false|\n|lhdw_vendas|dim_fabricante|      false|\n|lhdw_vendas| dim_geografia|      false|\n|lhdw_vendas|   dim_produto|      false|\n|lhdw_vendas|  dim_segmento|      false|\n+-----------+--------------+-----------+\n\n"
     ]
    }
   ],
   "source": [
    "# Registro da tabela Delta - Dimensão Geografia\n",
    "# Define o caminho dos dados Delta para a dimensão Geografia.\n",
    "delta_table_path = \"dbfs:/mnt/lhdw/gold/vendas_delta/dim_geografia\"\n",
    "\n",
    "# Registra a tabela DimGeografia no banco de dados 'lhdw_vendas'.\n",
    "spark.sql(f\"\"\"\n",
    "    CREATE TABLE IF NOT EXISTS lhdw_vendas.dim_geografia\n",
    "    USING DELTA\n",
    "    LOCATION '{delta_table_path}'\n",
    "\"\"\")\n",
    "\n",
    "# Verifica se a tabela DimGeografia foi registrada.\n",
    "spark.sql(\"SHOW TABLES\").show()"
   ]
  },
  {
   "cell_type": "code",
   "execution_count": 0,
   "metadata": {
    "application/vnd.databricks.v1+cell": {
     "cellMetadata": {
      "byteLimit": 2048000,
      "rowLimit": 10000
     },
     "inputWidgets": {},
     "nuid": "c576c445-a7b6-433a-ae4c-2f73baa01803",
     "showTitle": false,
     "tableResultSettingsMap": {},
     "title": ""
    }
   },
   "outputs": [
    {
     "output_type": "stream",
     "name": "stdout",
     "output_type": "stream",
     "text": [
      "+-----------+--------------+-----------+\n|   database|     tableName|isTemporary|\n+-----------+--------------+-----------+\n|lhdw_vendas| dim_categoria|      false|\n|lhdw_vendas|   dim_cliente|      false|\n|lhdw_vendas|dim_fabricante|      false|\n|lhdw_vendas| dim_geografia|      false|\n|lhdw_vendas|   dim_produto|      false|\n|lhdw_vendas|  dim_segmento|      false|\n+-----------+--------------+-----------+\n\n"
     ]
    }
   ],
   "source": [
    "# Registro da tabela Delta - Dimensão Cliente\n",
    "# Define o caminho dos dados Delta para a dimensão Cliente.\n",
    "delta_table_path = \"dbfs:/mnt/lhdw/gold/vendas_delta/dim_cliente\"\n",
    "\n",
    "# Registra a tabela DimCliente no banco de dados 'lhdw_vendas'.\n",
    "spark.sql(f\"\"\"\n",
    "    CREATE TABLE IF NOT EXISTS lhdw_vendas.dim_cliente\n",
    "    USING DELTA\n",
    "    LOCATION '{delta_table_path}'\n",
    "\"\"\")\n",
    "\n",
    "# Confirmação da criação da tabela DimCliente.\n",
    "spark.sql(\"SHOW TABLES\").show()"
   ]
  },
  {
   "cell_type": "code",
   "execution_count": 0,
   "metadata": {
    "application/vnd.databricks.v1+cell": {
     "cellMetadata": {
      "byteLimit": 2048000,
      "rowLimit": 10000
     },
     "inputWidgets": {},
     "nuid": "84f32ed3-e82b-4126-b528-51caa9202fe2",
     "showTitle": false,
     "tableResultSettingsMap": {},
     "title": ""
    }
   },
   "outputs": [
    {
     "output_type": "stream",
     "name": "stdout",
     "output_type": "stream",
     "text": [
      "+-----------+--------------+-----------+\n|   database|     tableName|isTemporary|\n+-----------+--------------+-----------+\n|lhdw_vendas| dim_categoria|      false|\n|lhdw_vendas|   dim_cliente|      false|\n|lhdw_vendas|dim_fabricante|      false|\n|lhdw_vendas| dim_geografia|      false|\n|lhdw_vendas|   dim_produto|      false|\n|lhdw_vendas|  dim_segmento|      false|\n|lhdw_vendas|   fato_vendas|      false|\n+-----------+--------------+-----------+\n\n"
     ]
    }
   ],
   "source": [
    "# ---- Registro da Tabela Delta para Fato Vendas ----\n",
    "# Caminho onde os dados Delta da tabela fato vendas estão armazenados\n",
    "delta_table_path = \"dbfs:/mnt/lhdw/gold/vendas_delta/fato_vendas\"\n",
    "\n",
    "# Registrar a tabela Delta no catálogo do Spark\n",
    "spark.sql(f\"\"\"\n",
    "    CREATE TABLE IF NOT EXISTS lhdw_vendas.fato_vendas\n",
    "    USING DELTA\n",
    "    LOCATION '{delta_table_path}'\n",
    "\"\"\")\n",
    "\n",
    "# Verificar as tabelas criadas no banco de dados atual\n",
    "# Mostra todas as tabelas registradas no banco de dados `lhdw_vendas`\n",
    "spark.sql(\"SHOW TABLES\").show()\n"
   ]
  },
  {
   "cell_type": "code",
   "execution_count": 0,
   "metadata": {
    "application/vnd.databricks.v1+cell": {
     "cellMetadata": {
      "byteLimit": 2048000,
      "rowLimit": 10000
     },
     "inputWidgets": {},
     "nuid": "1c03a4e9-fb16-4804-9008-57eecb2e09b1",
     "showTitle": false,
     "tableResultSettingsMap": {},
     "title": ""
    }
   },
   "outputs": [
    {
     "output_type": "stream",
     "name": "stdout",
     "output_type": "stream",
     "text": [
      "Out[9]: 445"
     ]
    }
   ],
   "source": [
    "# ---- Limpeza de Memória ----\n",
    "import gc\n",
    "# Limpar os caches do Spark para liberar memória ocupada\n",
    "spark.catalog.clearCache()\n",
    "\n",
    "# Realizar a coleta de lixo no Python para liberar objetos em desuso\n",
    "gc.collect()"
   ]
  }
 ],
 "metadata": {
  "application/vnd.databricks.v1+notebook": {
   "computePreferences": null,
   "dashboards": [],
   "environmentMetadata": null,
   "language": "python",
   "notebookMetadata": {
    "pythonIndentUnit": 4
   },
   "notebookName": "08_criacao_tabelas_delta",
   "widgets": {}
  }
 },
 "nbformat": 4,
 "nbformat_minor": 0
}
