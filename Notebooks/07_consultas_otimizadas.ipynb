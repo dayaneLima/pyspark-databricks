{
 "cells": [
  {
   "cell_type": "markdown",
   "metadata": {
    "application/vnd.databricks.v1+cell": {
     "cellMetadata": {},
     "inputWidgets": {},
     "nuid": "09a0f73b-7aa7-437a-9d05-d98fa862a848",
     "showTitle": false,
     "tableResultSettingsMap": {},
     "title": ""
    }
   },
   "source": [
    "### Configuração e Otimização de Consultas no PySpark"
   ]
  },
  {
   "cell_type": "code",
   "execution_count": 0,
   "metadata": {
    "application/vnd.databricks.v1+cell": {
     "cellMetadata": {
      "byteLimit": 2048000,
      "rowLimit": 10000
     },
     "inputWidgets": {},
     "nuid": "9c02b7ca-ee87-48da-92f6-0fe3b6a4dfe4",
     "showTitle": false,
     "tableResultSettingsMap": {},
     "title": ""
    }
   },
   "outputs": [],
   "source": [
    "# ---- 1. Inicialização da SparkSession ----\n",
    "from pyspark.sql import SparkSession\n",
    "\n",
    "# Configurações para suporte ao Delta Lake\n",
    "spark = SparkSession.builder \\\n",
    "    .appName(\"Consultas Otimizadas - Leitura Delta\") \\\n",
    "    .config(\"spark.sql.extensions\", \"io.delta.sql.DeltaSparkSessionExtension\") \\\n",
    "    .config(\"spark.sql.catalog.spark_catalog\", \"org.apache.spark.sql.delta.catalog.DeltaCatalog\") \\\n",
    "    .getOrCreate()\n",
    "\n",
    "# ---- 2. Verificando o número de núcleos disponíveis ----\n",
    "# Determina o número de núcleos ativos no cluster Spark\n",
    "num_cores = sc._jsc.sc().getExecutorMemoryStatus().keySet().size()\n",
    "print(f\"Número de núcleos no cluster: {num_cores}\")\n"
   ]
  },
  {
   "cell_type": "markdown",
   "metadata": {
    "application/vnd.databricks.v1+cell": {
     "cellMetadata": {},
     "inputWidgets": {},
     "nuid": "b5c6f696-5a69-49fd-93a2-7017ceb91a35",
     "showTitle": false,
     "tableResultSettingsMap": {},
     "title": ""
    }
   },
   "source": [
    "#### Evidências das Tabelas Delta\n"
   ]
  },
  {
   "cell_type": "code",
   "execution_count": 0,
   "metadata": {
    "application/vnd.databricks.v1+cell": {
     "cellMetadata": {
      "byteLimit": 2048000,
      "rowLimit": 10000
     },
     "inputWidgets": {},
     "nuid": "64e98df1-621d-4b5a-bb9a-d07c36de08a6",
     "showTitle": false,
     "tableResultSettingsMap": {},
     "title": ""
    }
   },
   "outputs": [
    {
     "output_type": "stream",
     "name": "stdout",
     "output_type": "stream",
     "text": [
      "Evidência da tabela Fato Vendas:\n+----------+----------+------------+-----------+-------------+-----------+--------+-------------+-------------+-----------+----+---+----------------+\n| DataVenda|sk_produto|sk_categoria|sk_segmento|sk_fabricante| sk_cliente|Unidades|PrecoUnitario|CustoUnitario|TotalVendas| Ano|Mes|data_atualizacao|\n+----------+----------+------------+-----------+-------------+-----------+--------+-------------+-------------+-----------+----+---+----------------+\n|2012-04-28|        73|           2|          7|            1|34359741806|       1|       100.79|        73.58|     100.79|2012|  4|            null|\n|2012-04-05|        73|           2|          7|            1|42949677547|       1|       100.79|        73.58|     100.79|2012|  4|            null|\n|2012-04-29|        73|           2|          7|            1|60129543459|       1|       100.79|        73.58|     100.79|2012|  4|            null|\n|2012-04-02|        73|           2|          7|            1|17179872124|       1|       100.79|        73.58|     100.79|2012|  4|            null|\n|2012-04-06|        73|           2|          7|            1| 8589938912|       1|       100.79|        73.58|     100.79|2012|  4|            null|\n|2012-04-21|        73|           2|          7|            1|51539611203|       1|       100.79|        73.58|     100.79|2012|  4|            null|\n|2012-04-30|        73|           2|          7|            1|60129544886|       1|       100.79|        73.58|     100.79|2012|  4|            null|\n|2012-04-29|        73|           2|          7|            1| 8589935321|       1|       100.79|        73.58|     100.79|2012|  4|            null|\n|2012-04-19|        73|           2|          7|            1|60129542871|       1|       100.79|        73.58|     100.79|2012|  4|            null|\n|2012-04-19|        73|           2|          7|            1|60129544333|       1|       100.79|        73.58|     100.79|2012|  4|            null|\n|2012-04-13|        73|           2|          7|            1|60129547141|       1|       100.79|        73.58|     100.79|2012|  4|            null|\n|2012-04-08|        73|           2|          7|            1|51539608035|       1|       100.79|        73.58|     100.79|2012|  4|            null|\n|2012-04-05|        73|           2|          7|            1|60129544887|       1|       100.79|        73.58|     100.79|2012|  4|            null|\n|2012-04-08|        73|           2|          7|            1| 8589935889|       1|       100.79|        73.58|     100.79|2012|  4|            null|\n|2012-04-05|        73|           2|          7|            1|34359741229|       1|       100.79|        73.58|     100.79|2012|  4|            null|\n|2012-04-12|        73|           2|          7|            1|42949677354|       1|       100.79|        73.58|     100.79|2012|  4|            null|\n|2012-04-18|        73|           2|          7|            1|17179872308|       1|       100.79|        73.58|     100.79|2012|  4|            null|\n|2012-04-18|        73|           2|          7|            1|34359742802|       1|       100.79|        73.58|     100.79|2012|  4|            null|\n|2012-04-27|        73|           2|          7|            1|34359738505|       1|       100.79|        73.58|     100.79|2012|  4|            null|\n|2012-04-18|        73|           2|          7|            1|34359740828|       1|       100.79|        73.58|     100.79|2012|  4|            null|\n+----------+----------+------------+-----------+-------------+-----------+--------+-------------+-------------+-----------+----+---+----------------+\nonly showing top 20 rows\n\nEvidência da tabela Dim Produto:\n+---------+-------+---------+----------+----------------+\n|IDProduto|Produto|Categoria|sk_produto|data_atualizacao|\n+---------+-------+---------+----------+----------------+\n+---------+-------+---------+----------+----------------+\n\nEvidência da tabela Dim Geografia:\n+------+------+------+--------+----+------------+------------+----------------+\n|Cidade|Estado|Regiao|Distrito|Pais|CodigoPostal|sk_geografia|data_atualizacao|\n+------+------+------+--------+----+------------+------------+----------------+\n+------+------+------+--------+----+------------+------------+----------------+\n\nEvidência da tabela Dim Categoria:\n+---------+------------+----------------+\n|Categoria|sk_categoria|data_atualizacao|\n+---------+------------+----------------+\n+---------+------------+----------------+\n\nEvidência da tabela Dim Cliente:\n+---------+----+-----+------------+----------+----------------+\n|IDCliente|Nome|Email|sk_geografia|sk_cliente|data_atualizacao|\n+---------+----+-----+------------+----------+----------------+\n+---------+----+-----+------------+----------+----------------+\n\nEvidência da tabela Dim Fabricante:\n+------------+----------+-------------+----------------+\n|IDFabricante|Fabricante|sk_fabricante|data_atualizacao|\n+------------+----------+-------------+----------------+\n+------------+----------+-------------+----------------+\n\nEvidência da tabela Dim Segmento:\n+--------+-----------+----------------+\n|Segmento|sk_segmento|data_atualizacao|\n+--------+-----------+----------------+\n+--------+-----------+----------------+\n\n"
     ]
    }
   ],
   "source": [
    "from delta.tables import DeltaTable\n",
    "\n",
    "# Caminho base para as tabelas Delta\n",
    "delta_path = \"dbfs:/mnt/lhdw/gold/vendas_delta\"\n",
    "\n",
    "# ---- 3. Carregar e visualizar Fato Vendas ----\n",
    "delta_table = DeltaTable.forPath(spark, f\"{delta_path}/fato_vendas\")\n",
    "print(\"Evidência da tabela Fato Vendas:\")\n",
    "delta_table.toDF().show()\n",
    "\n",
    "# ---- 4. Carregar e visualizar Dimensão Produto ----\n",
    "dim_produto_df = DeltaTable.forPath(spark, f\"{delta_path}/dim_produto\")\n",
    "print(\"Evidência da tabela Dim Produto:\")\n",
    "dim_produto_df.toDF().show()\n",
    "\n",
    "# ---- 5. Carregar e visualizar Dimensão Geografia ----\n",
    "dim_geografia_df = DeltaTable.forPath(spark, f\"{delta_path}/dim_geografia\")\n",
    "print(\"Evidência da tabela Dim Geografia:\")\n",
    "dim_geografia_df.toDF().show()\n",
    "\n",
    "# ---- 6. Carregar e visualizar Dimensão Categoria ----\n",
    "dim_categoria_df = DeltaTable.forPath(spark, f\"{delta_path}/dim_categoria\")\n",
    "print(\"Evidência da tabela Dim Categoria:\")\n",
    "dim_categoria_df.toDF().show()\n",
    "\n",
    "# ---- 7. Carregar e visualizar Dimensão Cliente ----\n",
    "# Alternativa usando a API de leitura direta no formato Delta\n",
    "dim_cliente_df = spark.read.format(\"delta\").load(f\"{delta_path}/dim_cliente\")\n",
    "print(\"Evidência da tabela Dim Cliente:\")\n",
    "dim_cliente_df.show()\n",
    "\n",
    "# ---- 8. Carregar e visualizar Dimensão Fabricante ----\n",
    "dim_fabricante_df = DeltaTable.forPath(spark, f\"{delta_path}/dim_fabricante\")\n",
    "print(\"Evidência da tabela Dim Fabricante:\")\n",
    "dim_fabricante_df.toDF().show()\n",
    "\n",
    "# ---- 9. Carregar e visualizar Dimensão Segmento ----\n",
    "dim_segmento_df = DeltaTable.forPath(spark, f\"{delta_path}/dim_segmento\")\n",
    "print(\"Evidência da tabela Dim Segmento:\")\n",
    "dim_segmento_df.toDF().show()\n",
    "\n"
   ]
  },
  {
   "cell_type": "markdown",
   "metadata": {
    "application/vnd.databricks.v1+cell": {
     "cellMetadata": {},
     "inputWidgets": {},
     "nuid": "3181f603-2b71-49d7-9606-3ddc5299a2fb",
     "showTitle": false,
     "tableResultSettingsMap": {},
     "title": ""
    }
   },
   "source": [
    "#### Consultas Otimizadas e Boas Práticas"
   ]
  },
  {
   "cell_type": "code",
   "execution_count": 0,
   "metadata": {
    "application/vnd.databricks.v1+cell": {
     "cellMetadata": {
      "byteLimit": 2048000,
      "rowLimit": 10000
     },
     "inputWidgets": {},
     "nuid": "c94ff93b-8967-4373-bee0-943e1122191f",
     "showTitle": false,
     "tableResultSettingsMap": {},
     "title": ""
    }
   },
   "outputs": [
    {
     "output_type": "stream",
     "name": "stdout",
     "output_type": "stream",
     "text": [
      "Dados filtrados por Ano e Mês (predicate pushdown):\n+----------+----------+------------+-----------+-------------+-----------+--------+-------------+-------------+-----------+----+---+----------------+\n| DataVenda|sk_produto|sk_categoria|sk_segmento|sk_fabricante| sk_cliente|Unidades|PrecoUnitario|CustoUnitario|TotalVendas| Ano|Mes|data_atualizacao|\n+----------+----------+------------+-----------+-------------+-----------+--------+-------------+-------------+-----------+----+---+----------------+\n|2012-10-17|        19|           2|          6|            1|60129550649|       1|        36.74|        26.82|      36.74|2012| 10|            null|\n|2012-10-31|        19|           2|          6|            1|       7385|       1|        36.74|        26.82|      36.74|2012| 10|            null|\n|2012-10-24|        19|           2|          6|            1|25769809950|       1|        36.74|        26.82|      36.74|2012| 10|            null|\n|2012-10-24|        19|           2|          6|            1|       5173|       1|        36.74|        26.82|      36.74|2012| 10|            null|\n|2012-10-17|        19|           2|          6|            1|       6151|       1|        36.74|        26.82|      36.74|2012| 10|            null|\n|2012-10-04|        19|           2|          6|            1|17179875796|       1|        36.74|        26.82|      36.74|2012| 10|            null|\n|2012-10-11|        19|           2|          6|            1|25769809581|       1|        36.74|        26.82|      36.74|2012| 10|            null|\n|2012-10-08|        19|           2|          6|            1|60129548380|       1|        36.74|        26.82|      36.74|2012| 10|            null|\n|2012-10-26|        19|           2|          6|            1|60129550137|       1|        36.74|        26.82|      36.74|2012| 10|            null|\n|2012-10-15|        19|           2|          6|            1|34359744122|       1|        36.74|        26.82|      36.74|2012| 10|            null|\n|2012-10-14|        19|           2|          6|            1|       7386|       1|        36.74|        26.82|      36.74|2012| 10|            null|\n|2012-10-07|        19|           2|          6|            1|51539613979|       1|        36.74|        26.82|      36.74|2012| 10|            null|\n|2012-10-08|        19|           2|          6|            1|17179874805|       1|        36.74|        26.82|      36.74|2012| 10|            null|\n|2012-10-13|        19|           2|          6|            1|34359743724|       1|        36.74|        26.82|      36.74|2012| 10|            null|\n|2012-10-31|        19|           2|          6|            1|       5302|       1|        36.74|        26.82|      36.74|2012| 10|            null|\n|2012-10-25|        19|           2|          6|            1|25769809456|       1|        36.74|        26.82|      36.74|2012| 10|            null|\n|2012-10-10|        19|           2|          6|            1|       6769|       1|        36.74|        26.82|      36.74|2012| 10|            null|\n|2012-10-23|        19|           2|          6|            1|34359743134|       1|        36.74|        26.82|      36.74|2012| 10|            null|\n|2012-10-14|        19|           2|          6|            1|       6991|       1|        36.74|        26.82|      36.74|2012| 10|            null|\n|2012-10-04|        19|           2|          6|            1|51539614087|       1|        36.74|        26.82|      36.74|2012| 10|            null|\n+----------+----------+------------+-----------+-------------+-----------+--------+-------------+-------------+-----------+----+---+----------------+\nonly showing top 20 rows\n\nResultados agrupados por Categoria e Ano:\n+---------+---+-----------+\n|Categoria|Ano|TotalVendas|\n+---------+---+-----------+\n+---------+---+-----------+\n\n"
     ]
    }
   ],
   "source": [
    "# ---- 10. Aplicar Predicate Pushdown ----\n",
    "# Exemplo de otimização ao filtrar diretamente os dados durante a leitura\n",
    "gold_path = \"dbfs:/mnt/lhdw/gold/vendas_delta/fato_vendas\"\n",
    "df_filtrado = spark.read.format(\"delta\").load(gold_path).filter(\"Ano = 2012 AND Mes = 10\")\n",
    "print(\"Dados filtrados por Ano e Mês (predicate pushdown):\")\n",
    "df_filtrado.show()\n",
    "\n",
    "# ---- 11. Implementar Broadcast Join ----\n",
    "from pyspark.sql.functions import year, sum, broadcast, desc\n",
    "\n",
    "# Leitura da tabela fato vendas\n",
    "vendas_df = spark.read.format(\"delta\").load(f\"{delta_path}/fato_vendas\")\n",
    "# Leitura da dimensão categoria\n",
    "categoria_df = spark.read.format(\"delta\").load(f\"{delta_path}/dim_categoria\")\n",
    "\n",
    "# Otimização: usar broadcast para dimensões pequenas\n",
    "categoria_df = broadcast(categoria_df)\n",
    "\n",
    "# Realizar join otimizado\n",
    "resultado_df = vendas_df.join(categoria_df, vendas_df.sk_categoria == categoria_df.sk_categoria) \\\n",
    "    .groupBy(\"Categoria\", \"Ano\") \\\n",
    "    .agg(sum(\"TotalVendas\").alias(\"TotalVendas\")) \\\n",
    "    .orderBy(\"Ano\", desc(\"TotalVendas\"))\n",
    "\n",
    "print(\"Resultados agrupados por Categoria e Ano:\")\n",
    "resultado_df.show()\n"
   ]
  },
  {
   "cell_type": "markdown",
   "metadata": {
    "application/vnd.databricks.v1+cell": {
     "cellMetadata": {},
     "inputWidgets": {},
     "nuid": "0bbcdee0-b84e-4c54-a2f4-b08d2e5a96fd",
     "showTitle": false,
     "tableResultSettingsMap": {},
     "title": ""
    }
   },
   "source": [
    "#### Boas Práticas de Otimização no Spark\n",
    "\n",
    "- Predicate Pushdown: Filtros aplicados diretamente na leitura evitam carregar dados desnecessários.\n",
    "- Broadcast Join: Replica dimensões pequenas em todos os nós para junções mais rápidas.\n",
    "- Particionamento: Particionar a tabela Fato por colunas como Ano e Mês melhora consultas temporais.\n",
    "- Evite UDFs: Use funções internas do Spark SQL para melhor performance.\n",
    "- Reparticionamento: Utilize coalesce para reduzir partições sem shuffle, se necessário.\n",
    "- Cache: Armazene dados frequentemente reutilizados na memória para acelerar consultas.\n",
    "- Uso de Adaptive Query Execution (AQE): Ajusta dinamicamente o plano de execução com base nos dados processados.\n",
    "\n",
    "Estas práticas ajudam a maximizar a eficiência de leitura e escrita no PySpark, reduzindo o tempo de execução e otimizando recursos computacionais."
   ]
  }
 ],
 "metadata": {
  "application/vnd.databricks.v1+notebook": {
   "computePreferences": null,
   "dashboards": [],
   "environmentMetadata": null,
   "language": "python",
   "notebookMetadata": {
    "pythonIndentUnit": 4
   },
   "notebookName": "07_consultas_otimizadas",
   "widgets": {}
  }
 },
 "nbformat": 4,
 "nbformat_minor": 0
}
