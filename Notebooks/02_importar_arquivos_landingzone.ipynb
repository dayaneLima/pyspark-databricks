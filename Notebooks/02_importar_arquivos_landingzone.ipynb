{
 "cells": [
  {
   "cell_type": "markdown",
   "metadata": {
    "application/vnd.databricks.v1+cell": {
     "cellMetadata": {},
     "inputWidgets": {},
     "nuid": "76f74ba6-f9ac-481d-bc38-697d5fe590c0",
     "showTitle": false,
     "tableResultSettingsMap": {},
     "title": ""
    }
   },
   "source": [
    "###Importar arquivos para DBFS Landingzone\n",
    "\n",
    "Para baixar um arquivo de um repositório do GitHub e armazená-lo no Databricks, siga os passos descritos a seguir:\n"
   ]
  },
  {
   "cell_type": "code",
   "execution_count": 0,
   "metadata": {
    "application/vnd.databricks.v1+cell": {
     "cellMetadata": {
      "byteLimit": 2048000,
      "rowLimit": 10000
     },
     "inputWidgets": {},
     "nuid": "91f04f85-1f1f-4204-b1f6-9180ed13cb6d",
     "showTitle": false,
     "tableResultSettingsMap": {},
     "title": ""
    }
   },
   "outputs": [
    {
     "output_type": "stream",
     "name": "stdout",
     "output_type": "stream",
     "text": [
      "Arquivo baixado: /mnt/lhdw/landingzone/vendas/pendente/dados_2012.csv\n"
     ]
    }
   ],
   "source": [
    "# Importa a biblioteca para manipulação de URLs e download de arquivos.\n",
    "import urllib.request\n",
    "\n",
    "# Define a URL do arquivo no GitHub. \n",
    "# Aqui, o arquivo CSV está hospedado em um repositório público.\n",
    "url = 'https://github.com/andrerosa77/trn-pyspark/raw/main/dados_2012.csv'\n",
    "\n",
    "# Define um caminho temporário na instância do cluster do Databricks.\n",
    "# O arquivo será inicialmente salvo neste local antes de ser movido para o DBFS.\n",
    "temp_path = '/tmp/dados_2012.csv'\n",
    "\n",
    "# Realiza o download do arquivo da URL especificada e o salva no caminho temporário.\n",
    "urllib.request.urlretrieve(url, temp_path)\n",
    "\n",
    "# Define o caminho de destino no Databricks File System (DBFS).\n",
    "# Este é o local onde o arquivo será armazenado no ambiente Databricks, estruturado em uma landing zone.\n",
    "dbfs_path = '/mnt/lhdw/landingzone/vendas/pendente/dados_2012.csv'\n",
    "\n",
    "# Usa a função `dbutils.fs.cp` para copiar o arquivo do caminho temporário local para o DBFS.\n",
    "# A sintaxe f'file:{temp_path}' indica o caminho local temporário.\n",
    "# A sintaxe f'dbfs:{dbfs_path}' representa o caminho final no DBFS.\n",
    "dbutils.fs.cp(f'file:{temp_path}', f'dbfs:{dbfs_path}')\n",
    "\n",
    "# Exibe uma mensagem de sucesso indicando o local onde o arquivo foi salvo no DBFS.\n",
    "print(f\"Arquivo baixado: {dbfs_path}\")\n"
   ]
  },
  {
   "cell_type": "markdown",
   "metadata": {
    "application/vnd.databricks.v1+cell": {
     "cellMetadata": {},
     "inputWidgets": {},
     "nuid": "cf3fc368-a113-40be-8cc6-e924808a77fe",
     "showTitle": false,
     "tableResultSettingsMap": {},
     "title": ""
    }
   },
   "source": [
    "##Listar Arquivos no Databricks File System (DBFS)"
   ]
  },
  {
   "cell_type": "code",
   "execution_count": 0,
   "metadata": {
    "application/vnd.databricks.v1+cell": {
     "cellMetadata": {
      "byteLimit": 2048000,
      "rowLimit": 10000
     },
     "inputWidgets": {},
     "nuid": "f5054c26-dbc4-4a1e-8d69-51321f1594ea",
     "showTitle": false,
     "tableResultSettingsMap": {},
     "title": ""
    }
   },
   "outputs": [
    {
     "output_type": "stream",
     "name": "stdout",
     "output_type": "stream",
     "text": [
      "Out[14]: [FileInfo(path='dbfs:/mnt/lhdw/landingzone/vendas/pendente/dados_2012.csv', name='dados_2012.csv', size=22400712, modificationTime=1733862793000)]"
     ]
    }
   ],
   "source": [
    "# lista todos os arquivos e subdiretórios presentes no caminho especificado no Databricks File System (DBFS).\n",
    "dbutils.fs.ls(\"/mnt/lhdw/landingzone/vendas/pendente/\")\n"
   ]
  },
  {
   "cell_type": "markdown",
   "metadata": {
    "application/vnd.databricks.v1+cell": {
     "cellMetadata": {},
     "inputWidgets": {},
     "nuid": "4c921e6f-d057-415f-af6f-e94c8a0424ce",
     "showTitle": false,
     "tableResultSettingsMap": {},
     "title": ""
    }
   },
   "source": [
    "Magic command no Databricks que lista todos os arquivos e subdiretórios no caminho especificado no Databricks File System (DBFS):\n"
   ]
  },
  {
   "cell_type": "code",
   "execution_count": 0,
   "metadata": {
    "application/vnd.databricks.v1+cell": {
     "cellMetadata": {
      "byteLimit": 2048000,
      "rowLimit": 10000
     },
     "inputWidgets": {},
     "nuid": "95138e9b-e49d-42e3-ae63-1cb28528cf5e",
     "showTitle": false,
     "tableResultSettingsMap": {},
     "title": ""
    }
   },
   "outputs": [
    {
     "output_type": "display_data",
     "data": {
      "text/html": [
       "<style scoped>\n",
       "  .table-result-container {\n",
       "    max-height: 300px;\n",
       "    overflow: auto;\n",
       "  }\n",
       "  table, th, td {\n",
       "    border: 1px solid black;\n",
       "    border-collapse: collapse;\n",
       "  }\n",
       "  th, td {\n",
       "    padding: 5px;\n",
       "  }\n",
       "  th {\n",
       "    text-align: left;\n",
       "  }\n",
       "</style><div class='table-result-container'><table class='table-result'><thead style='background-color: white'><tr><th>path</th><th>name</th><th>size</th><th>modificationTime</th></tr></thead><tbody><tr><td>dbfs:/mnt/lhdw/landingzone/vendas/pendente/dados_2012.csv</td><td>dados_2012.csv</td><td>22400712</td><td>1733862793000</td></tr></tbody></table></div>"
      ]
     },
     "metadata": {
      "application/vnd.databricks.v1+output": {
       "addedWidgets": {},
       "aggData": [],
       "aggError": "",
       "aggOverflow": false,
       "aggSchema": [],
       "aggSeriesLimitReached": false,
       "aggType": "",
       "arguments": {},
       "columnCustomDisplayInfos": {},
       "data": [
        [
         "dbfs:/mnt/lhdw/landingzone/vendas/pendente/dados_2012.csv",
         "dados_2012.csv",
         22400712,
         1733862793000
        ]
       ],
       "datasetInfos": [],
       "dbfsResultPath": null,
       "isJsonSchema": true,
       "metadata": {
        "isDbfsCommandResult": false
       },
       "overflow": false,
       "plotOptions": {
        "customPlotOptions": {},
        "displayType": "table",
        "pivotAggregation": null,
        "pivotColumns": null,
        "xColumns": null,
        "yColumns": null
       },
       "removedWidgets": [],
       "schema": [
        {
         "metadata": "{}",
         "name": "path",
         "type": "\"string\""
        },
        {
         "metadata": "{}",
         "name": "name",
         "type": "\"string\""
        },
        {
         "metadata": "{}",
         "name": "size",
         "type": "\"long\""
        },
        {
         "metadata": "{}",
         "name": "modificationTime",
         "type": "\"long\""
        }
       ],
       "type": "table"
      }
     },
     "output_type": "display_data"
    }
   ],
   "source": [
    "%fs ls /mnt/lhdw/landingzone/vendas/pendente/"
   ]
  },
  {
   "cell_type": "markdown",
   "metadata": {
    "application/vnd.databricks.v1+cell": {
     "cellMetadata": {},
     "inputWidgets": {},
     "nuid": "b7c4a69e-ee3e-4627-82f8-f9c92abebb63",
     "showTitle": false,
     "tableResultSettingsMap": {},
     "title": ""
    }
   },
   "source": [
    "## Diferença dos comandos\n",
    "Enquanto dbutils.fs.ls retorna uma lista de objetos FileInfo manipulável em Python, o %fs exibe os resultados diretamente no notebook em um formato tabular.\n",
    "\n",
    "O %fs é útil para visualização, mas caso você precise manipular os resultados em lógica condicional ou iterar sobre os arquivos, dbutils.fs.ls é mais apropriado."
   ]
  }
 ],
 "metadata": {
  "application/vnd.databricks.v1+notebook": {
   "dashboards": [],
   "environmentMetadata": null,
   "language": "python",
   "notebookMetadata": {
    "mostRecentlyExecutedCommandWithImplicitDF": {
     "commandId": 987487533910683,
     "dataframes": [
      "_sqldf"
     ]
    },
    "pythonIndentUnit": 4
   },
   "notebookName": "02_importar_arquivos_landingzone",
   "widgets": {}
  }
 },
 "nbformat": 4,
 "nbformat_minor": 0
}
